{
 "cells": [
  {
   "cell_type": "markdown",
   "metadata": {},
   "source": [
    "# 39 ML Project - Forest Fire Prediction - End to End"
   ]
  },
  {
   "cell_type": "code",
   "execution_count": 1,
   "metadata": {},
   "outputs": [],
   "source": [
    "# file from https://archive.ics.uci.edu/ml/machine-learning-databases/00547/"
   ]
  },
  {
   "cell_type": "code",
   "execution_count": 354,
   "metadata": {},
   "outputs": [],
   "source": [
    "import pandas as pd"
   ]
  },
  {
   "cell_type": "code",
   "execution_count": 355,
   "metadata": {},
   "outputs": [],
   "source": [
    "raw_data=pd.read_csv('Algerian_forest_fires_dataset_UPDATE.csv')"
   ]
  },
  {
   "cell_type": "code",
   "execution_count": 356,
   "metadata": {},
   "outputs": [
    {
     "data": {
      "text/html": [
       "<div>\n",
       "<style scoped>\n",
       "    .dataframe tbody tr th:only-of-type {\n",
       "        vertical-align: middle;\n",
       "    }\n",
       "\n",
       "    .dataframe tbody tr th {\n",
       "        vertical-align: top;\n",
       "    }\n",
       "\n",
       "    .dataframe thead th {\n",
       "        text-align: right;\n",
       "    }\n",
       "</style>\n",
       "<table border=\"1\" class=\"dataframe\">\n",
       "  <thead>\n",
       "    <tr style=\"text-align: right;\">\n",
       "      <th></th>\n",
       "      <th></th>\n",
       "      <th></th>\n",
       "      <th></th>\n",
       "      <th></th>\n",
       "      <th></th>\n",
       "      <th></th>\n",
       "      <th></th>\n",
       "      <th></th>\n",
       "      <th></th>\n",
       "      <th></th>\n",
       "      <th></th>\n",
       "      <th></th>\n",
       "      <th>Bejaia Region Dataset</th>\n",
       "    </tr>\n",
       "  </thead>\n",
       "  <tbody>\n",
       "    <tr>\n",
       "      <th>day</th>\n",
       "      <th>month</th>\n",
       "      <th>year</th>\n",
       "      <th>Temperature</th>\n",
       "      <th>RH</th>\n",
       "      <th>Ws</th>\n",
       "      <th>Rain</th>\n",
       "      <th>FFMC</th>\n",
       "      <th>DMC</th>\n",
       "      <th>DC</th>\n",
       "      <th>ISI</th>\n",
       "      <th>BUI</th>\n",
       "      <th>FWI</th>\n",
       "      <td>Classes</td>\n",
       "    </tr>\n",
       "    <tr>\n",
       "      <th>01</th>\n",
       "      <th>06</th>\n",
       "      <th>2012</th>\n",
       "      <th>29</th>\n",
       "      <th>57</th>\n",
       "      <th>18</th>\n",
       "      <th>0</th>\n",
       "      <th>65.7</th>\n",
       "      <th>3.4</th>\n",
       "      <th>7.6</th>\n",
       "      <th>1.3</th>\n",
       "      <th>3.4</th>\n",
       "      <th>0.5</th>\n",
       "      <td>not fire</td>\n",
       "    </tr>\n",
       "    <tr>\n",
       "      <th>02</th>\n",
       "      <th>06</th>\n",
       "      <th>2012</th>\n",
       "      <th>29</th>\n",
       "      <th>61</th>\n",
       "      <th>13</th>\n",
       "      <th>1.3</th>\n",
       "      <th>64.4</th>\n",
       "      <th>4.1</th>\n",
       "      <th>7.6</th>\n",
       "      <th>1</th>\n",
       "      <th>3.9</th>\n",
       "      <th>0.4</th>\n",
       "      <td>not fire</td>\n",
       "    </tr>\n",
       "    <tr>\n",
       "      <th>03</th>\n",
       "      <th>06</th>\n",
       "      <th>2012</th>\n",
       "      <th>26</th>\n",
       "      <th>82</th>\n",
       "      <th>22</th>\n",
       "      <th>13.1</th>\n",
       "      <th>47.1</th>\n",
       "      <th>2.5</th>\n",
       "      <th>7.1</th>\n",
       "      <th>0.3</th>\n",
       "      <th>2.7</th>\n",
       "      <th>0.1</th>\n",
       "      <td>not fire</td>\n",
       "    </tr>\n",
       "    <tr>\n",
       "      <th>04</th>\n",
       "      <th>06</th>\n",
       "      <th>2012</th>\n",
       "      <th>25</th>\n",
       "      <th>89</th>\n",
       "      <th>13</th>\n",
       "      <th>2.5</th>\n",
       "      <th>28.6</th>\n",
       "      <th>1.3</th>\n",
       "      <th>6.9</th>\n",
       "      <th>0</th>\n",
       "      <th>1.7</th>\n",
       "      <th>0</th>\n",
       "      <td>not fire</td>\n",
       "    </tr>\n",
       "    <tr>\n",
       "      <th>...</th>\n",
       "      <th>...</th>\n",
       "      <th>...</th>\n",
       "      <th>...</th>\n",
       "      <th>...</th>\n",
       "      <th>...</th>\n",
       "      <th>...</th>\n",
       "      <th>...</th>\n",
       "      <th>...</th>\n",
       "      <th>...</th>\n",
       "      <th>...</th>\n",
       "      <th>...</th>\n",
       "      <th>...</th>\n",
       "      <td>...</td>\n",
       "    </tr>\n",
       "    <tr>\n",
       "      <th>26</th>\n",
       "      <th>09</th>\n",
       "      <th>2012</th>\n",
       "      <th>30</th>\n",
       "      <th>65</th>\n",
       "      <th>14</th>\n",
       "      <th>0</th>\n",
       "      <th>85.4</th>\n",
       "      <th>16</th>\n",
       "      <th>44.5</th>\n",
       "      <th>4.5</th>\n",
       "      <th>16.9</th>\n",
       "      <th>6.5</th>\n",
       "      <td>fire</td>\n",
       "    </tr>\n",
       "    <tr>\n",
       "      <th>27</th>\n",
       "      <th>09</th>\n",
       "      <th>2012</th>\n",
       "      <th>28</th>\n",
       "      <th>87</th>\n",
       "      <th>15</th>\n",
       "      <th>4.4</th>\n",
       "      <th>41.1</th>\n",
       "      <th>6.5</th>\n",
       "      <th>8</th>\n",
       "      <th>0.1</th>\n",
       "      <th>6.2</th>\n",
       "      <th>0</th>\n",
       "      <td>not fire</td>\n",
       "    </tr>\n",
       "    <tr>\n",
       "      <th>28</th>\n",
       "      <th>09</th>\n",
       "      <th>2012</th>\n",
       "      <th>27</th>\n",
       "      <th>87</th>\n",
       "      <th>29</th>\n",
       "      <th>0.5</th>\n",
       "      <th>45.9</th>\n",
       "      <th>3.5</th>\n",
       "      <th>7.9</th>\n",
       "      <th>0.4</th>\n",
       "      <th>3.4</th>\n",
       "      <th>0.2</th>\n",
       "      <td>not fire</td>\n",
       "    </tr>\n",
       "    <tr>\n",
       "      <th>29</th>\n",
       "      <th>09</th>\n",
       "      <th>2012</th>\n",
       "      <th>24</th>\n",
       "      <th>54</th>\n",
       "      <th>18</th>\n",
       "      <th>0.1</th>\n",
       "      <th>79.7</th>\n",
       "      <th>4.3</th>\n",
       "      <th>15.2</th>\n",
       "      <th>1.7</th>\n",
       "      <th>5.1</th>\n",
       "      <th>0.7</th>\n",
       "      <td>not fire</td>\n",
       "    </tr>\n",
       "    <tr>\n",
       "      <th>30</th>\n",
       "      <th>09</th>\n",
       "      <th>2012</th>\n",
       "      <th>24</th>\n",
       "      <th>64</th>\n",
       "      <th>15</th>\n",
       "      <th>0.2</th>\n",
       "      <th>67.3</th>\n",
       "      <th>3.8</th>\n",
       "      <th>16.5</th>\n",
       "      <th>1.2</th>\n",
       "      <th>4.8</th>\n",
       "      <th>0.5</th>\n",
       "      <td>not fire</td>\n",
       "    </tr>\n",
       "  </tbody>\n",
       "</table>\n",
       "<p>247 rows × 1 columns</p>\n",
       "</div>"
      ],
      "text/plain": [
       "                                                                    Bejaia Region Dataset \n",
       "day month year Temperature  RH  Ws Rain  FFMC DMC DC   ISI BUI  FWI              Classes  \n",
       "01  06    2012 29          57  18  0     65.7 3.4 7.6  1.3 3.4  0.5            not fire   \n",
       "02  06    2012 29          61  13  1.3   64.4 4.1 7.6  1   3.9  0.4            not fire   \n",
       "03  06    2012 26          82  22  13.1  47.1 2.5 7.1  0.3 2.7  0.1            not fire   \n",
       "04  06    2012 25          89  13  2.5   28.6 1.3 6.9  0   1.7  0              not fire   \n",
       "...                                                                                    ...\n",
       "26  09    2012 30          65  14  0     85.4 16  44.5 4.5 16.9 6.5                fire   \n",
       "27  09    2012 28          87  15  4.4   41.1 6.5 8    0.1 6.2  0              not fire   \n",
       "28  09    2012 27          87  29  0.5   45.9 3.5 7.9  0.4 3.4  0.2            not fire   \n",
       "29  09    2012 24          54  18  0.1   79.7 4.3 15.2 1.7 5.1  0.7            not fire   \n",
       "30  09    2012 24          64  15  0.2   67.3 3.8 16.5 1.2 4.8  0.5           not fire    \n",
       "\n",
       "[247 rows x 1 columns]"
      ]
     },
     "execution_count": 356,
     "metadata": {},
     "output_type": "execute_result"
    }
   ],
   "source": [
    "raw_data"
   ]
  },
  {
   "cell_type": "markdown",
   "metadata": {},
   "source": [
    "#####                  Looking at the data above , it seems header row is not proper.. lets fix that first"
   ]
  },
  {
   "cell_type": "code",
   "execution_count": 357,
   "metadata": {},
   "outputs": [],
   "source": [
    "# remove the top header \n",
    "temp_df = pd.DataFrame(raw_data)\n",
    "temp_df.to_csv('Algerian_forest_fires_dataset_UPDATE1.csv', header=False)"
   ]
  },
  {
   "cell_type": "code",
   "execution_count": 358,
   "metadata": {},
   "outputs": [
    {
     "data": {
      "text/html": [
       "<div>\n",
       "<style scoped>\n",
       "    .dataframe tbody tr th:only-of-type {\n",
       "        vertical-align: middle;\n",
       "    }\n",
       "\n",
       "    .dataframe tbody tr th {\n",
       "        vertical-align: top;\n",
       "    }\n",
       "\n",
       "    .dataframe thead th {\n",
       "        text-align: right;\n",
       "    }\n",
       "</style>\n",
       "<table border=\"1\" class=\"dataframe\">\n",
       "  <thead>\n",
       "    <tr style=\"text-align: right;\">\n",
       "      <th></th>\n",
       "      <th>day</th>\n",
       "      <th>month</th>\n",
       "      <th>year</th>\n",
       "      <th>Temperature</th>\n",
       "      <th>RH</th>\n",
       "      <th>Ws</th>\n",
       "      <th>Rain</th>\n",
       "      <th>FFMC</th>\n",
       "      <th>DMC</th>\n",
       "      <th>DC</th>\n",
       "      <th>ISI</th>\n",
       "      <th>BUI</th>\n",
       "      <th>FWI</th>\n",
       "      <th>Classes</th>\n",
       "    </tr>\n",
       "  </thead>\n",
       "  <tbody>\n",
       "    <tr>\n",
       "      <th>0</th>\n",
       "      <td>01</td>\n",
       "      <td>06</td>\n",
       "      <td>2012</td>\n",
       "      <td>29</td>\n",
       "      <td>57</td>\n",
       "      <td>18</td>\n",
       "      <td>0</td>\n",
       "      <td>65.7</td>\n",
       "      <td>3.4</td>\n",
       "      <td>7.6</td>\n",
       "      <td>1.3</td>\n",
       "      <td>3.4</td>\n",
       "      <td>0.5</td>\n",
       "      <td>not fire</td>\n",
       "    </tr>\n",
       "    <tr>\n",
       "      <th>1</th>\n",
       "      <td>02</td>\n",
       "      <td>06</td>\n",
       "      <td>2012</td>\n",
       "      <td>29</td>\n",
       "      <td>61</td>\n",
       "      <td>13</td>\n",
       "      <td>1.3</td>\n",
       "      <td>64.4</td>\n",
       "      <td>4.1</td>\n",
       "      <td>7.6</td>\n",
       "      <td>1</td>\n",
       "      <td>3.9</td>\n",
       "      <td>0.4</td>\n",
       "      <td>not fire</td>\n",
       "    </tr>\n",
       "    <tr>\n",
       "      <th>2</th>\n",
       "      <td>03</td>\n",
       "      <td>06</td>\n",
       "      <td>2012</td>\n",
       "      <td>26</td>\n",
       "      <td>82</td>\n",
       "      <td>22</td>\n",
       "      <td>13.1</td>\n",
       "      <td>47.1</td>\n",
       "      <td>2.5</td>\n",
       "      <td>7.1</td>\n",
       "      <td>0.3</td>\n",
       "      <td>2.7</td>\n",
       "      <td>0.1</td>\n",
       "      <td>not fire</td>\n",
       "    </tr>\n",
       "    <tr>\n",
       "      <th>3</th>\n",
       "      <td>04</td>\n",
       "      <td>06</td>\n",
       "      <td>2012</td>\n",
       "      <td>25</td>\n",
       "      <td>89</td>\n",
       "      <td>13</td>\n",
       "      <td>2.5</td>\n",
       "      <td>28.6</td>\n",
       "      <td>1.3</td>\n",
       "      <td>6.9</td>\n",
       "      <td>0</td>\n",
       "      <td>1.7</td>\n",
       "      <td>0</td>\n",
       "      <td>not fire</td>\n",
       "    </tr>\n",
       "    <tr>\n",
       "      <th>4</th>\n",
       "      <td>05</td>\n",
       "      <td>06</td>\n",
       "      <td>2012</td>\n",
       "      <td>27</td>\n",
       "      <td>77</td>\n",
       "      <td>16</td>\n",
       "      <td>0</td>\n",
       "      <td>64.8</td>\n",
       "      <td>3</td>\n",
       "      <td>14.2</td>\n",
       "      <td>1.2</td>\n",
       "      <td>3.9</td>\n",
       "      <td>0.5</td>\n",
       "      <td>not fire</td>\n",
       "    </tr>\n",
       "  </tbody>\n",
       "</table>\n",
       "</div>"
      ],
      "text/plain": [
       "  day month  year Temperature  RH  Ws Rain   FFMC  DMC    DC  ISI  BUI  FWI  \\\n",
       "0  01    06  2012          29  57  18     0  65.7  3.4   7.6  1.3  3.4  0.5   \n",
       "1  02    06  2012          29  61  13   1.3  64.4  4.1   7.6    1  3.9  0.4   \n",
       "2  03    06  2012          26  82  22  13.1  47.1  2.5   7.1  0.3  2.7  0.1   \n",
       "3  04    06  2012          25  89  13   2.5  28.6  1.3   6.9    0  1.7    0   \n",
       "4  05    06  2012          27  77  16     0  64.8    3  14.2  1.2  3.9  0.5   \n",
       "\n",
       "     Classes    \n",
       "0  not fire     \n",
       "1  not fire     \n",
       "2  not fire     \n",
       "3  not fire     \n",
       "4  not fire     "
      ]
     },
     "execution_count": 358,
     "metadata": {},
     "output_type": "execute_result"
    }
   ],
   "source": [
    "full_df=pd.read_csv('Algerian_forest_fires_dataset_UPDATE1.csv')\n",
    "full_df.head()"
   ]
  },
  {
   "cell_type": "code",
   "execution_count": 359,
   "metadata": {},
   "outputs": [
    {
     "data": {
      "text/plain": [
       "(246, 14)"
      ]
     },
     "execution_count": 359,
     "metadata": {},
     "output_type": "execute_result"
    }
   ],
   "source": [
    "# 1. check how many data\n",
    "full_df.shape"
   ]
  },
  {
   "cell_type": "markdown",
   "metadata": {},
   "source": [
    "# \n",
    "Attribute Information:\n",
    "\n",
    "1. Date : (DD/MM/YYYY) Day, month ('june' to 'september'), year (2012)\n",
    "Weather data observations\n",
    "2. Temp : temperature noon (temperature max) in Celsius degrees: 22 to 42\n",
    "3. RH : Relative Humidity in %: 21 to 90\n",
    "4. Ws :Wind speed in km/h: 6 to 29\n",
    "5. Rain: total day in mm: 0 to 16.8\n",
    "FWI Components\n",
    "6. Fine Fuel Moisture Code (FFMC) index from the FWI system: 28.6 to 92.5\n",
    "7. Duff Moisture Code (DMC) index from the FWI system: 1.1 to 65.9\n",
    "8. Drought Code (DC) index from the FWI system: 7 to 220.4\n",
    "9. Initial Spread Index (ISI) index from the FWI system: 0 to 18.5\n",
    "10. Buildup Index (BUI) index from the FWI system: 1.1 to 68\n",
    "11. Fire Weather Index (FWI) Index: 0 to 31.1\n",
    "12. Classes: two classes, namely â€œFireâ€ and â€œnot Fireâ€"
   ]
  },
  {
   "cell_type": "code",
   "execution_count": 360,
   "metadata": {},
   "outputs": [
    {
     "data": {
      "text/html": [
       "<div>\n",
       "<style scoped>\n",
       "    .dataframe tbody tr th:only-of-type {\n",
       "        vertical-align: middle;\n",
       "    }\n",
       "\n",
       "    .dataframe tbody tr th {\n",
       "        vertical-align: top;\n",
       "    }\n",
       "\n",
       "    .dataframe thead th {\n",
       "        text-align: right;\n",
       "    }\n",
       "</style>\n",
       "<table border=\"1\" class=\"dataframe\">\n",
       "  <thead>\n",
       "    <tr style=\"text-align: right;\">\n",
       "      <th></th>\n",
       "      <th>day</th>\n",
       "      <th>month</th>\n",
       "      <th>year</th>\n",
       "      <th>Temperature</th>\n",
       "      <th>RH</th>\n",
       "      <th>Ws</th>\n",
       "      <th>Rain</th>\n",
       "      <th>FFMC</th>\n",
       "      <th>DMC</th>\n",
       "      <th>DC</th>\n",
       "      <th>ISI</th>\n",
       "      <th>BUI</th>\n",
       "      <th>FWI</th>\n",
       "      <th>Classes</th>\n",
       "    </tr>\n",
       "  </thead>\n",
       "  <tbody>\n",
       "    <tr>\n",
       "      <th>count</th>\n",
       "      <td>246</td>\n",
       "      <td>245</td>\n",
       "      <td>245</td>\n",
       "      <td>245</td>\n",
       "      <td>245</td>\n",
       "      <td>245</td>\n",
       "      <td>245</td>\n",
       "      <td>245</td>\n",
       "      <td>245</td>\n",
       "      <td>245</td>\n",
       "      <td>245</td>\n",
       "      <td>245</td>\n",
       "      <td>245</td>\n",
       "      <td>244</td>\n",
       "    </tr>\n",
       "    <tr>\n",
       "      <th>unique</th>\n",
       "      <td>33</td>\n",
       "      <td>5</td>\n",
       "      <td>2</td>\n",
       "      <td>20</td>\n",
       "      <td>63</td>\n",
       "      <td>19</td>\n",
       "      <td>40</td>\n",
       "      <td>174</td>\n",
       "      <td>167</td>\n",
       "      <td>199</td>\n",
       "      <td>107</td>\n",
       "      <td>175</td>\n",
       "      <td>128</td>\n",
       "      <td>9</td>\n",
       "    </tr>\n",
       "    <tr>\n",
       "      <th>top</th>\n",
       "      <td>07</td>\n",
       "      <td>07</td>\n",
       "      <td>2012</td>\n",
       "      <td>35</td>\n",
       "      <td>64</td>\n",
       "      <td>14</td>\n",
       "      <td>0</td>\n",
       "      <td>88.9</td>\n",
       "      <td>7.9</td>\n",
       "      <td>8</td>\n",
       "      <td>1.1</td>\n",
       "      <td>3</td>\n",
       "      <td>0.4</td>\n",
       "      <td>fire</td>\n",
       "    </tr>\n",
       "    <tr>\n",
       "      <th>freq</th>\n",
       "      <td>8</td>\n",
       "      <td>62</td>\n",
       "      <td>244</td>\n",
       "      <td>29</td>\n",
       "      <td>10</td>\n",
       "      <td>43</td>\n",
       "      <td>133</td>\n",
       "      <td>8</td>\n",
       "      <td>5</td>\n",
       "      <td>5</td>\n",
       "      <td>8</td>\n",
       "      <td>5</td>\n",
       "      <td>12</td>\n",
       "      <td>131</td>\n",
       "    </tr>\n",
       "  </tbody>\n",
       "</table>\n",
       "</div>"
      ],
      "text/plain": [
       "        day month  year Temperature   RH   Ws Rain   FFMC  DMC   DC  ISI  BUI  \\\n",
       "count   246   245   245         245  245  245   245   245  245  245  245  245   \n",
       "unique   33     5     2          20   63   19    40   174  167  199  107  175   \n",
       "top      07    07  2012          35   64   14     0  88.9  7.9    8  1.1    3   \n",
       "freq      8    62   244          29   10   43   133     8    5    5    8    5   \n",
       "\n",
       "        FWI Classes    \n",
       "count   245       244  \n",
       "unique  128         9  \n",
       "top     0.4   fire     \n",
       "freq     12       131  "
      ]
     },
     "execution_count": 360,
     "metadata": {},
     "output_type": "execute_result"
    }
   ],
   "source": [
    "# 2. Get te summary of teh data\n",
    "full_df.describe()"
   ]
  },
  {
   "cell_type": "code",
   "execution_count": 361,
   "metadata": {},
   "outputs": [
    {
     "name": "stdout",
     "output_type": "stream",
     "text": [
      "<class 'pandas.core.frame.DataFrame'>\n",
      "RangeIndex: 246 entries, 0 to 245\n",
      "Data columns (total 14 columns):\n",
      " #   Column       Non-Null Count  Dtype \n",
      "---  ------       --------------  ----- \n",
      " 0   day          246 non-null    object\n",
      " 1   month        245 non-null    object\n",
      " 2   year         245 non-null    object\n",
      " 3   Temperature  245 non-null    object\n",
      " 4    RH          245 non-null    object\n",
      " 5    Ws          245 non-null    object\n",
      " 6   Rain         245 non-null    object\n",
      " 7   FFMC         245 non-null    object\n",
      " 8   DMC          245 non-null    object\n",
      " 9   DC           245 non-null    object\n",
      " 10  ISI          245 non-null    object\n",
      " 11  BUI          245 non-null    object\n",
      " 12  FWI          245 non-null    object\n",
      " 13  Classes      244 non-null    object\n",
      "dtypes: object(14)\n",
      "memory usage: 27.0+ KB\n"
     ]
    }
   ],
   "source": [
    "# checking teh info of each col\n",
    "full_df.info()"
   ]
  },
  {
   "cell_type": "markdown",
   "metadata": {},
   "source": [
    "##### By lookign at teh describe and info cell, it seems there is inconsistancy with number of records or missing records. lets dig that"
   ]
  },
  {
   "cell_type": "code",
   "execution_count": 362,
   "metadata": {},
   "outputs": [
    {
     "data": {
      "text/plain": [
       "array(['01', '02', '03', '04', '05', '06', '07', '08', '09', '10', '11',\n",
       "       '12', '13', '14', '15', '16', '17', '18', '19', '20', '21', '22',\n",
       "       '23', '24', '25', '26', '27', '28', '29', '30', '31',\n",
       "       'Sidi-Bel Abbes Region Dataset', 'day'], dtype=object)"
      ]
     },
     "execution_count": 362,
     "metadata": {},
     "output_type": "execute_result"
    }
   ],
   "source": [
    "# findout the problem records\n",
    "full_df['day'].unique()"
   ]
  },
  {
   "cell_type": "markdown",
   "metadata": {},
   "source": [
    "#### looking at above results, it seems there are 2 rows with bad, lets remove those 2 bad records"
   ]
  },
  {
   "cell_type": "code",
   "execution_count": 363,
   "metadata": {},
   "outputs": [],
   "source": [
    "# remove the 1st bad record\n",
    "full_df = full_df[full_df['day'] != 'Sidi-Bel Abbes Region Dataset'] "
   ]
  },
  {
   "cell_type": "code",
   "execution_count": 364,
   "metadata": {},
   "outputs": [],
   "source": [
    "# remove the next bad record\n",
    "full_df = full_df[full_df['day'] != 'day']"
   ]
  },
  {
   "cell_type": "markdown",
   "metadata": {},
   "source": [
    "##### Now lets check if all rows looks good"
   ]
  },
  {
   "cell_type": "code",
   "execution_count": 365,
   "metadata": {},
   "outputs": [
    {
     "name": "stdout",
     "output_type": "stream",
     "text": [
      "<class 'pandas.core.frame.DataFrame'>\n",
      "Int64Index: 244 entries, 0 to 245\n",
      "Data columns (total 14 columns):\n",
      " #   Column       Non-Null Count  Dtype \n",
      "---  ------       --------------  ----- \n",
      " 0   day          244 non-null    object\n",
      " 1   month        244 non-null    object\n",
      " 2   year         244 non-null    object\n",
      " 3   Temperature  244 non-null    object\n",
      " 4    RH          244 non-null    object\n",
      " 5    Ws          244 non-null    object\n",
      " 6   Rain         244 non-null    object\n",
      " 7   FFMC         244 non-null    object\n",
      " 8   DMC          244 non-null    object\n",
      " 9   DC           244 non-null    object\n",
      " 10  ISI          244 non-null    object\n",
      " 11  BUI          244 non-null    object\n",
      " 12  FWI          244 non-null    object\n",
      " 13  Classes      243 non-null    object\n",
      "dtypes: object(14)\n",
      "memory usage: 28.6+ KB\n"
     ]
    }
   ],
   "source": [
    "full_df.info()"
   ]
  },
  {
   "cell_type": "markdown",
   "metadata": {},
   "source": [
    "#### looking at above info results, there is still some inconsistancies, lets try to find why Classes column has only 243 records"
   ]
  },
  {
   "cell_type": "code",
   "execution_count": 366,
   "metadata": {},
   "outputs": [
    {
     "name": "stdout",
     "output_type": "stream",
     "text": [
      "    day month  year Temperature  RH  Ws Rain   FFMC   DMC      DC   ISI   BUI      FWI      Classes  \n",
      "0    01    06  2012          29  57  18     0  65.7   3.4     7.6   1.3   3.4      0.5    not fire   \n",
      "1    02    06  2012          29  61  13   1.3  64.4   4.1     7.6     1   3.9      0.4    not fire   \n",
      "2    03    06  2012          26  82  22  13.1  47.1   2.5     7.1   0.3   2.7      0.1    not fire   \n",
      "3    04    06  2012          25  89  13   2.5  28.6   1.3     6.9     0   1.7        0    not fire   \n",
      "4    05    06  2012          27  77  16     0  64.8     3    14.2   1.2   3.9      0.5    not fire   \n",
      "5    06    06  2012          31  67  14     0  82.6   5.8    22.2   3.1     7      2.5        fire   \n",
      "6    07    06  2012          33  54  13     0  88.2   9.9    30.5   6.4  10.9      7.2        fire   \n",
      "7    08    06  2012          30  73  15     0  86.6  12.1    38.3   5.6  13.5      7.1        fire   \n",
      "8    09    06  2012          25  88  13   0.2  52.9   7.9    38.8   0.4  10.5      0.3    not fire   \n",
      "9    10    06  2012          28  79  12     0  73.2   9.5    46.3   1.3  12.6      0.9    not fire   \n",
      "10   11    06  2012          31  65  14     0  84.5  12.5    54.3     4  15.8      5.6        fire   \n",
      "11   12    06  2012          26  81  19     0    84  13.8    61.4   4.8  17.7     7.1         fire   \n",
      "12   13    06  2012          27  84  21   1.2    50   6.7      17   0.5   6.7      0.2    not fire   \n",
      "13   14    06  2012          30  78  20   0.5    59   4.6     7.8     1   4.4      0.4    not fire   \n",
      "14   15    06  2012          28  80  17   3.1  49.4     3     7.4   0.4     3      0.1    not fire   \n",
      "15   16    06  2012          29  89  13   0.7  36.1   1.7     7.6     0   2.2        0    not fire   \n",
      "16   17    06  2012          30  89  16   0.6  37.3   1.1     7.8     0   1.6        0    not fire   \n",
      "17   18    06  2012          31  78  14   0.3  56.9   1.9       8   0.7   2.4      0.2    not fire   \n",
      "18   19    06  2012          31  55  16   0.1  79.9   4.5      16   2.5   5.3      1.4    not fire   \n",
      "19   20    06  2012          30  80  16   0.4  59.8   3.4    27.1   0.9   5.1      0.4    not fire   \n",
      "20   21    06  2012          30  78  14     0    81   6.3    31.6   2.6   8.4      2.2        fire   \n",
      "21   22    06  2012          31  67  17   0.1  79.1     7    39.5   2.4   9.7      2.3    not fire   \n",
      "22   23    06  2012          32  62  18   0.1  81.4   8.2    47.7   3.3  11.5      3.8        fire   \n",
      "23   24    06  2012          32  66  17     0  85.9  11.2    55.8   5.6  14.9      7.5        fire   \n",
      "24   25    06  2012          31  64  15     0  86.7  14.2    63.8   5.7  18.3      8.4        fire   \n",
      "25   26    06  2012          31  64  18     0  86.8  17.8    71.8   6.7  21.6     10.6        fire   \n",
      "26   27    06  2012          34  53  18     0    89  21.6    80.3   9.2  25.8       15        fire   \n",
      "27   28    06  2012          32  55  14     0  89.1  25.5    88.5   7.6  29.7     13.9        fire   \n",
      "28   29    06  2012          32  47  13   0.3  79.9  18.4    84.4   2.2  23.8      3.9    not fire   \n",
      "29   30    06  2012          33  50  14     0  88.7  22.9    92.8   7.2  28.3     12.9        fire   \n",
      "30   01    07  2012          29  68  19     1  59.9   2.5     8.6   1.1   2.9      0.4    not fire   \n",
      "31   02    07  2012          27  75  19   1.2  55.7   2.4     8.3   0.8   2.8      0.3    not fire   \n",
      "32   03    07  2012          32  76  20   0.7  63.1   2.6     9.2   1.3     3      0.5    not fire   \n",
      "33   04    07  2012          33  78  17     0  80.1   4.6    18.5   2.7   5.7      1.7    not fire   \n",
      "34   05    07  2012          33  66  14     0  85.9   7.6    27.9   4.8   9.1      4.9        fire   \n",
      "35   06    07  2012          32  63  14     0    87  10.9      37   5.6  12.5      6.8        fire   \n",
      "36   07    07  2012          35  64  18   0.2    80   9.7    40.4   2.8  12.1      3.2    not fire   \n",
      "37   08    07  2012          33  68  19     0  85.6  12.5    49.8     6  15.4        8        fire   \n",
      "38   09    07  2012          32  68  14   1.4  66.6   7.7     9.2   1.1   7.4      0.6    not fire   \n",
      "39   10    07  2012          33  69  13   0.7  66.6     6     9.3   1.1   5.8      0.5    not fire   \n",
      "40   11    07  2012          33  76  14     0  81.1   8.1    18.7   2.6   8.1      2.2    not fire   \n",
      "41   12    07  2012          31  75  13   0.1  75.1   7.9    27.7   1.5   9.2      0.9    not fire   \n",
      "42   13    07  2012          34  81  15     0  81.8   9.7    37.2     3  11.7      3.4    not fire   \n",
      "43   14    07  2012          34  61  13   0.6  73.9   7.8    22.9   1.4   8.4      0.8    not fire   \n",
      "44   15    07  2012          30  80  19   0.4  60.7   5.2      17   1.1   5.9      0.5    not fire   \n",
      "45   16    07  2012          28  76  21     0  72.6     7    25.5   0.7   8.3      0.4    not fire   \n",
      "46   17    07  2012          29  70  14     0  82.8   9.4    34.1   3.2  11.1      3.6        fire   \n",
      "47   18    07  2012          31  68  14     0  85.4  12.1    43.1   4.6  14.2        6        fire   \n",
      "48   19    07  2012          35  59  17     0  88.1    12    52.8   7.7  18.2     10.9        fire   \n",
      "49   20    07  2012          33  65  15   0.1  81.4  12.3    62.1   2.8  16.5        4        fire   \n",
      "50   21    07  2012          33  70  17     0  85.4  18.5    71.5   5.2  22.4      8.8        fire   \n",
      "51   22    07  2012          28  79  18   0.1  73.4  16.4    79.9   1.8  21.7      2.8    not fire   \n",
      "52   23    07  2012          27  66  22   0.4  68.2  10.5    71.3   1.8  15.4      2.1    not fire   \n",
      "53   24    07  2012          28  78  16   0.1    70   9.6    79.7   1.4  14.7      1.3    not fire   \n",
      "54   25    07  2012          31  65  18     0  84.3  12.5    88.7   4.8  18.5      7.3        fire   \n",
      "55   26    07  2012          36  53  19     0  89.2  17.1    98.6    10  23.9     15.3        fire   \n",
      "56   27    07  2012          36  48  13     0  90.3  22.2   108.5   8.7  29.4     15.3        fire   \n",
      "57   28    07  2012          33  76  15     0  86.5  24.4   117.8   5.6  32.1     11.3        fire   \n",
      "58   29    07  2012          32  73  15     0  86.6  26.7     127   5.6    35     11.9        fire   \n",
      "59   30    07  2012          31  79  15     0  85.4  28.5     136   4.7  37.4     10.7        fire   \n",
      "60   31    07  2012          35  64  17     0  87.2  31.9   145.7   6.8  41.2     15.7        fire   \n",
      "61   01    08  2012          36  45  14     0  78.8   4.8    10.2     2   4.7      0.9    not fire   \n",
      "62   02    08  2012          35  55  12   0.4    78   5.8      10   1.7   5.5      0.8    not fire   \n",
      "63   03    08  2012          35  63  14   0.3  76.6   5.7      10   1.7   5.5      0.8    not fire   \n",
      "64   04    08  2012          34  69  13     0    85   8.2    19.8     4   8.2      3.9        fire   \n",
      "65   05    08  2012          34  65  13     0  86.8  11.1    29.7   5.2  11.5      6.1        fire   \n",
      "66   06    08  2012          32  75  14     0  86.4    13    39.1   5.2  14.2      6.8        fire   \n",
      "67   07    08  2012          32  69  16     0  86.5  15.5    48.6   5.5  17.2        8        fire   \n",
      "68   08    08  2012          32  60  18   0.3  77.1  11.3      47   2.2  14.1      2.6    not fire   \n",
      "69   09    08  2012          35  59  17     0  87.4  14.8      57   6.9  17.9      9.9        fire   \n",
      "70   10    08  2012          35  55  14     0  88.9  18.6      67   7.4  21.9     11.6        fire   \n",
      "71   11    08  2012          35  63  13     0  88.9  21.7      77   7.1  25.5     12.1        fire   \n",
      "72   12    08  2012          35  51  13   0.3  81.3  15.6    75.1   2.5  20.7      4.2    not fire   \n",
      "73   13    08  2012          35  63  15     0    87    19    85.1   5.9  24.4     10.2        fire   \n",
      "74   14    08  2012          33  66  14     0    87  21.7    94.7   5.7  27.2     10.6        fire   \n",
      "75   15    08  2012          36  55  13   0.3  82.4  15.6    92.5   3.7    22      6.3        fire   \n",
      "76   16    08  2012          36  61  18   0.3  80.2  11.7    90.4   2.8  17.6      4.2        fire   \n",
      "77   17    08  2012          37  52  18     0  89.3    16   100.7   9.7  22.9     14.6        fire   \n",
      "78   18    08  2012          36  54  18     0  89.4    20   110.9   9.7  27.5     16.1        fire   \n",
      "79   19    08  2012          35  62  19     0  89.4  23.2   120.9   9.7  31.3     17.2        fire   \n",
      "80   20    08  2012          35  68  19     0  88.3  25.9   130.6   8.8  34.7     16.8        fire   \n",
      "81   21    08  2012          36  58  19     0  88.6  29.6   141.1   9.2  38.8     18.4        fire   \n",
      "82   22    08  2012          36  55  18     0  89.1  33.5   151.3   9.9  43.1     20.4        fire   \n",
      "83   23    08  2012          36  53  16     0  89.5  37.6   161.5  10.4  47.5     22.3           fire\n",
      "84   24    08  2012          34  64  14     0  88.9  40.5   171.3     9  50.9     20.9        fire   \n",
      "85   25    08  2012          35  60  15     0  88.9  43.9   181.3   8.2  54.7     20.3           fire\n",
      "86   26    08  2012          31  78  18     0  85.8  45.6   190.6   4.7  57.1     13.7          fire \n",
      "87   27    08  2012          33  82  21     0  84.9    47   200.2   4.4  59.3     13.2           fire\n",
      "88   28    08  2012          34  64  16     0  89.4  50.2   210.4   7.3  62.9     19.9          fire \n",
      "89   29    08  2012          35  48  18     0  90.1  54.2   220.4  12.5  67.4     30.2        fire   \n",
      "90   30    08  2012          35  70  17   0.8  72.7  25.2   180.4   1.7  37.4      4.2    not fire   \n",
      "91   31    08  2012          28  80  21  16.8  52.5   8.7     8.7   0.6   8.3      0.3       not fire\n",
      "92   01    09  2012          25  76  17   7.2    46   1.3     7.5   0.2   1.8      0.1      not fire \n",
      "93   02    09  2012          22  86  15  10.1  30.5   0.7       7     0   1.1        0       not fire\n",
      "94   03    09  2012          25  78  15   3.8  42.6   1.2     7.5   0.1   1.7        0    not fire   \n",
      "95   04    09  2012          29  73  17   0.1  68.4   1.9    15.7   1.4   2.9      0.5    not fire   \n",
      "96   05    09  2012          29  75  16     0  80.8   3.4      24   2.8   5.1      1.7        fire   \n",
      "97   06    09  2012          29  74  19   0.1  75.8   3.6    32.2   2.1   5.6      0.9    not fire   \n",
      "98   07    09  2012          31  71  17   0.3  69.6   3.2    30.1   1.5   5.1      0.6    not fire   \n",
      "99   08    09  2012          30  73  17   0.9    62   2.6     8.4   1.1     3      0.4    not fire   \n",
      "100  09    09  2012          30  77  15     1  56.1   2.1     8.4   0.7   2.6      0.2    not fire   \n",
      "101  10    09  2012          33  73  12   1.8  59.9   2.2     8.9   0.7   2.7      0.3    not fire   \n",
      "102  11    09  2012          30  77  21   1.8  58.5   1.9     8.4   1.1   2.4      0.3    not fire   \n",
      "103  12    09  2012          29  88  13     0    71   2.6    16.6   1.2   3.7      0.5    not fire   \n",
      "104  13    09  2012          25  86  21   4.6  40.9   1.3     7.5   0.1   1.8        0    not fire   \n",
      "105  14    09  2012          22  76  26   8.3  47.4   1.1       7   0.4   1.6      0.1    not fire   \n",
      "106  15    09  2012          24  82  15   0.4  44.9   0.9     7.3   0.2   1.4        0    not fire   \n",
      "107  16    09  2012          30  65  14     0  78.1   3.2    15.7   1.9   4.2      0.8    not fire   \n",
      "108  17    09  2012          31  52  14     0  87.7   6.4    24.3   6.2   7.7      5.9        fire   \n",
      "109  18    09  2012          32  49  11     0  89.4   9.8    33.1   6.8  11.3      7.7        fire   \n",
      "110  19    09  2012          29  57  14     0  89.3  12.5    41.3   7.8  14.2      9.7        fire   \n",
      "111  20    09  2012          28  84  18     0  83.8  13.5    49.3   4.5    16      6.3           fire\n",
      "112  21    09  2012          31  55  11     0  87.8  16.5    57.9   5.4  19.2      8.3        fire   \n",
      "113  22    09  2012          31  50  19   0.6  77.8  10.6    41.4   2.4  12.9      2.8    not fire   \n",
      "114  23    09  2012          32  54  11   0.5  73.7   7.9    30.4   1.2   9.6      0.7    not fire   \n",
      "115  24    09  2012          29  65  19   0.6  68.3   5.5    15.2   1.5   5.8      0.7    not fire   \n",
      "116  25    09  2012          26  81  21   5.8  48.6     3     7.7   0.4     3      0.1    not fire   \n",
      "117  26    09  2012          31  54  11     0    82     6    16.3   2.5   6.2      1.7    not fire   \n",
      "118  27    09  2012          31  66  11     0  85.7   8.3    24.9     4     9      4.1        fire   \n",
      "119  28    09  2012          32  47  14   0.7  77.5   7.1     8.8   1.8   6.8      0.9    not fire   \n",
      "120  29    09  2012          26  80  16   1.8  47.4   2.9     7.7   0.3     3      0.1    not fire   \n",
      "121  30    09  2012          25  78  14   1.4    45   1.9     7.5   0.2   2.4      0.1    not fire   \n",
      "124  01    06  2012          32  71  12   0.7  57.1   2.5     8.2   0.6   2.8      0.2    not fire   \n",
      "125  02    06  2012          30  73  13     4  55.7   2.7     7.8   0.6   2.9      0.2    not fire   \n",
      "126  03    06  2012          29  80  14     2  48.7   2.2     7.6   0.3   2.6      0.1    not fire   \n",
      "127  04    06  2012          30  64  14     0  79.4   5.2    15.4   2.2   5.6        1    not fire   \n",
      "128  05    06  2012          32  60  14   0.2  77.1     6    17.6   1.8   6.5      0.9    not fire   \n",
      "129  06    06  2012          35  54  11   0.1  83.7   8.4    26.3   3.1   9.3      3.1        fire   \n",
      "130  07    06  2012          35  44  17   0.2  85.6   9.9    28.9   5.4  10.7        6        fire   \n",
      "131  08    06  2012          28  51  17   1.3  71.4   7.7     7.4   1.5   7.3      0.8    not fire   \n",
      "132  09    06  2012          27  59  18   0.1  78.1   8.5    14.7   2.4   8.3      1.9    not fire   \n",
      "133  10    06  2012          30  41  15     0  89.4  13.3    22.5   8.4  13.1       10        fire   \n",
      "134  11    06  2012          31  42  21     0  90.6  18.2    30.5  13.4    18     16.7        fire   \n",
      "135  12    06  2012          27  58  17     0  88.9  21.3    37.8   8.7  21.2     12.9        fire   \n",
      "136  13    06  2012          30  52  15     2  72.3  11.4     7.8   1.4  10.9      0.9    not fire   \n",
      "137  14    06  2012          27  79  16   0.7  53.4   6.4     7.3   0.5   6.1      0.3    not fire   \n",
      "138  15    06  2012          28  90  15     0  66.8   7.2    14.7   1.2   7.1      0.6    not fire   \n",
      "139  16    06  2012          29  87  15   0.4  47.4   4.2       8   0.2   4.1      0.1    not fire   \n",
      "140  17    06  2012          31  69  17   4.7  62.2   3.9       8   1.1   3.8      0.4    not fire   \n",
      "141  18    06  2012          33  62  10   8.7  65.5   4.6     8.3   0.9   4.4      0.4    not fire   \n",
      "142  19    06  2012          32  67  14   4.5  64.6   4.4     8.2     1   4.2      0.4    not fire   \n",
      "143  20    06  2012          31  72  14   0.2  60.2   3.8       8   0.8   3.7      0.3    not fire   \n",
      "144  21    06  2012          32  55  14     0  86.2   8.3    18.4     5   8.2      4.9        fire   \n",
      "145  22    06  2012          33  46  14   1.1  78.3   8.1     8.3   1.9   7.7      1.2    not fire   \n",
      "146  23    06  2012          33  59  16   0.8  74.2     7     8.3   1.6   6.7      0.8    not fire   \n",
      "147  24    06  2012          35  68  16     0  85.3    10      17   4.9   9.9      5.3        fire   \n",
      "148  25    06  2012          34  70  16     0    86  12.8    25.6   5.4  12.7      6.7        fire   \n",
      "149  26    06  2012          36  62  16     0  87.8  16.5    34.5     7  16.4      9.5        fire   \n",
      "150  27    06  2012          36  55  15     0  89.1  20.9    43.3     8  20.8       12        fire   \n",
      "151  28    06  2012          37  37  13     0  92.5  27.2    52.4  11.7  27.1     18.4        fire   \n",
      "152  29    06  2012          37  36  13   0.6  86.2  17.9    36.7   4.8  17.8      7.2        fire   \n",
      "153  30    06  2012          34  42  15   1.7  79.7    12     8.5   2.2  11.5      2.2  not fire     \n",
      "154  01    07  2012          28  58  18   2.2  63.7   3.2     8.5   1.2   3.3      0.5    not fire   \n",
      "155  02    07  2012          33  48  16     0  87.6   7.9    17.8   6.8   7.8      6.4        fire   \n",
      "156  03    07  2012          34  56  17   0.1  84.7   9.7    27.3   4.7  10.3      5.2        fire   \n",
      "157  04    07  2012          34  58  18     0    88  13.6    36.8     8  14.1      9.9        fire   \n",
      "158  05    07  2012          34  45  18     0  90.5  18.7    46.4  11.3  18.7       15        fire   \n",
      "159  06    07  2012          35  42  15   0.3  84.7  15.5    45.1   4.3  16.7      6.3        fire   \n",
      "160  07    07  2012          38  43  13   0.5    85    13    35.4   4.1  13.7      5.2        fire   \n",
      "161  08    07  2012          35  47  18     6  80.8   9.8     9.7   3.1   9.4        3        fire   \n",
      "162  09    07  2012          36  43  15   1.9  82.3   9.4     9.9   3.2     9      3.1        fire   \n",
      "163  10    07  2012          34  51  16   3.8  77.5     8     9.5     2   7.7      1.3    not fire   \n",
      "164  11    07  2012          34  56  15   2.9  74.8   7.1     9.5   1.6   6.8      0.8    not fire   \n",
      "165  12    07  2012          36  44  13     0  90.1  12.6    19.4   8.3  12.5      9.6        fire   \n",
      "166  13    07  2012          39  45  13   0.6  85.2  11.3    10.4   4.2  10.9      4.7        fire   \n",
      "167  14    07  2012          37  37  18   0.2  88.9  12.9  14.6 9  12.5  10.4  fire               NaN\n",
      "168  15    07  2012          34  45  17     0  90.5    18    24.1  10.9  17.7     14.1        fire   \n",
      "169  16    07  2012          31  83  17     0  84.5  19.4    33.1   4.7  19.2      7.3        fire   \n",
      "170  17    07  2012          32  81  17     0  84.6  21.1    42.3   4.7  20.9      7.7        fire   \n",
      "171  18    07  2012          33  68  15     0  86.1  23.9    51.6   5.2  23.9      9.1        fire   \n",
      "172  19    07  2012          34  58  16     0  88.1  27.8    61.1   7.3  27.7       13        fire   \n",
      "173  20    07  2012          36  50  16     0  89.9  32.7      71   9.5  32.6     17.3        fire   \n",
      "174  21    07  2012          36  29  18     0  93.9  39.6    80.6  18.5  39.5       30        fire   \n",
      "175  22    07  2012          32  48  18     0  91.5  44.2    90.1  13.2    44     25.4        fire   \n",
      "176  23    07  2012          31  71  17     0  87.3  46.6      99   6.9  46.5     16.3        fire   \n",
      "177  24    07  2012          33  63  17   1.1  72.8  20.9    56.6   1.6  21.7      2.5    not fire   \n",
      "178  25    07  2012          39  64   9   1.2  73.8  11.7    15.9   1.1  11.4      0.7    not fire   \n",
      "179  26    07  2012          35  58  10   0.2  78.3  10.8    19.7   1.6  10.7        1    not fire   \n",
      "180  27    07  2012          29  87  18     0    80  11.8    28.3   2.8  11.8      3.2    not fire   \n",
      "181  28    07  2012          33  57  16     0  87.5  15.7    37.6   6.7  15.7        9        fire   \n",
      "182  29    07  2012          34  59  16     0  88.1  19.5    47.2   7.4  19.5     10.9        fire   \n",
      "183  30    07  2012          36  56  16     0  88.9  23.8    57.1   8.2  23.8     13.2        fire   \n",
      "184  31    07  2012          37  55  15     0  89.3  28.3    67.2   8.3  28.3     14.5        fire   \n",
      "185  01    08  2012          38  52  14     0  78.3   4.4    10.5     2   4.4      0.8    not fire   \n",
      "186  02    08  2012          40  34  14     0  93.3  10.8    21.4  13.8  10.6     13.5        fire   \n",
      "187  03    08  2012          39  33  17     0  93.7  17.1    32.1  17.2  16.9     19.5        fire   \n",
      "188  04    08  2012          38  35  15     0  93.8    23    42.7  15.7  22.9     20.9        fire   \n",
      "189  05    08  2012          34  42  17   0.1  88.3  23.6    52.5    19  23.5     12.6        fire   \n",
      "190  06    08  2012          30  54  14   3.1  70.5    11     9.1   1.3  10.5      0.8    not fire   \n",
      "191  07    08  2012          34  63  13   2.9  69.7   7.2     9.8   1.2   6.9      0.6    not fire   \n",
      "192  08    08  2012          37  56  11     0  87.4  11.2    20.2   5.2    11      5.9        fire   \n",
      "193  09    08  2012          39  43  12     0  91.7  16.5    30.9   9.6  16.4     12.7        fire   \n",
      "194  10    08  2012          39  39  15   0.2  89.3  15.8    35.4   8.2  15.8     10.7        fire   \n",
      "195  11    08  2012          40  31  15     0  94.2  22.5    46.3  16.6  22.4     21.6        fire   \n",
      "196  12    08  2012          39  21  17   0.4    93  18.4    41.5  15.5  18.4     18.8        fire   \n",
      "197  13    08  2012          35  34  16   0.2  88.3  16.9    45.1   7.5  17.5     10.5        fire   \n",
      "198  14    08  2012          37  40  13     0  91.9  22.3    55.5  10.8  22.3     15.7        fire   \n",
      "199  15    08  2012          35  46  13   0.3  83.9  16.9    54.2   3.5    19      5.5        fire   \n",
      "200  16    08  2012          40  41  10   0.1    92  22.6    65.1   9.5  24.2     14.8        fire   \n",
      "201  17    08  2012          42  24   9     0    96  30.3    76.4  15.7  30.4       24        fire   \n",
      "202  18    08  2012          37  37  14     0  94.3  35.9    86.8    16  35.9     26.3        fire   \n",
      "203  19    08  2012          35  66  15   0.1  82.7  32.7    96.8   3.3  35.5      7.7        fire   \n",
      "204  20    08  2012          36  81  15     0  83.7  34.4     107   3.8  38.1        9        fire   \n",
      "205  21    08  2012          36  71  15     0    86  36.9   117.1   5.1  41.3     12.2        fire   \n",
      "206  22    08  2012          37  53  14     0  89.5  41.1   127.5     8  45.5     18.1        fire   \n",
      "207  23    08  2012          36  43  16     0  91.2  46.1   137.7  11.5  50.2     24.5        fire   \n",
      "208  24    08  2012          35  38  15     0  92.1  51.3   147.7  12.2  54.9     26.9        fire   \n",
      "209  25    08  2012          34  40  18     0  92.1  56.3   157.5  14.3  59.5     31.1        fire   \n",
      "210  26    08  2012          33  37  16     0  92.2  61.3   167.2  13.1    64     30.3        fire   \n",
      "211  27    08  2012          36  54  14     0    91  65.9   177.3    10    68     26.1        fire   \n",
      "212  28    08  2012          35  56  14   0.4  79.2    37     166   2.1  30.6      6.1    not fire   \n",
      "213  29    08  2012          35  53  17   0.5  80.2  20.7   149.2   2.7  30.6      5.9        fire   \n",
      "214  30    08  2012          34  49  15     0  89.2  24.8   159.1   8.1  35.7       16        fire   \n",
      "215  31    08  2012          30  59  19     0  89.1  27.8   168.2   9.8  39.3     19.4        fire   \n",
      "216  01    09  2012          29  86  16     0  37.9   0.9     8.2   0.1   1.4        0    not fire   \n",
      "217  02    09  2012          28  67  19     0  75.4   2.9    16.3     2     4      0.8    not fire   \n",
      "218  03    09  2012          28  75  16     0  82.2   4.4    24.3   3.3     6      2.5        fire   \n",
      "219  04    09  2012          30  66  15   0.2  73.5   4.1    26.6   1.5     6      0.7    not fire   \n",
      "220  05    09  2012          30  58  12   4.1  66.1     4     8.4     1   3.9      0.4    not fire   \n",
      "221  06    09  2012          34  71  14   6.5  64.5   3.3     9.1     1   3.5      0.4    not fire   \n",
      "222  07    09  2012          31  62  15     0  83.3   5.8    17.7   3.8   6.4      3.2        fire   \n",
      "223  08    09  2012          30  88  14     0  82.5   6.6    26.1     3   8.1      2.7        fire   \n",
      "224  09    09  2012          30  80  15     0  83.1   7.9    34.5   3.5    10      3.7        fire   \n",
      "225  10    09  2012          29  74  15   1.1  59.5   4.7     8.2   0.8   4.6      0.3    not fire   \n",
      "226  11    09  2012          30  73  14     0  79.2   6.5    16.6   2.1   6.6      1.2    not fire   \n",
      "227  12    09  2012          31  72  14     0  84.2   8.3    25.2   3.8   9.1      3.9        fire   \n",
      "228  13    09  2012          29  49  19     0  88.6  11.5    33.4   9.1  12.4     10.3        fire   \n",
      "229  14    09  2012          28  81  15     0  84.6  12.6    41.5   4.3  14.3      5.7        fire   \n",
      "230  15    09  2012          32  51  13     0  88.7    16    50.2   6.9  17.8      9.8        fire   \n",
      "231  16    09  2012          33  26  13     0  93.9  21.2    59.2  14.2  22.4     19.3        fire   \n",
      "232  17    09  2012          34  44  12     0  92.5  25.2    63.3  11.2  26.2     17.5        fire   \n",
      "233  18    09  2012          36  33  13   0.1  90.6  25.8    77.8     9  28.2     15.4        fire   \n",
      "234  19    09  2012          29  41   8   0.1  83.9  24.9      86   2.7  28.9      5.6        fire   \n",
      "235  20    09  2012          34  58  13   0.2  79.5  18.7      88   2.1  24.4      3.8    not fire   \n",
      "236  21    09  2012          35  34  17     0  92.2  23.6    97.3  13.8  29.4     21.6        fire   \n",
      "237  22    09  2012          33  64  13     0  88.9  26.1   106.3   7.1  32.4     13.7        fire   \n",
      "238  23    09  2012          35  56  14     0    89  29.4   115.6   7.5    36     15.2        fire   \n",
      "239  24    09  2012          26  49   6     2  61.3  11.9    28.1   0.6  11.9      0.4    not fire   \n",
      "240  25    09  2012          28  70  15     0  79.9  13.8    36.1   2.4  14.1        3    not fire   \n",
      "241  26    09  2012          30  65  14     0  85.4    16    44.5   4.5  16.9      6.5        fire   \n",
      "242  27    09  2012          28  87  15   4.4  41.1   6.5       8   0.1   6.2        0    not fire   \n",
      "243  28    09  2012          27  87  29   0.5  45.9   3.5     7.9   0.4   3.4      0.2    not fire   \n",
      "244  29    09  2012          24  54  18   0.1  79.7   4.3    15.2   1.7   5.1      0.7    not fire   \n",
      "245  30    09  2012          24  64  15   0.2  67.3   3.8    16.5   1.2   4.8      0.5   not fire    \n"
     ]
    }
   ],
   "source": [
    "print(full_df.to_string())"
   ]
  },
  {
   "cell_type": "markdown",
   "metadata": {},
   "source": [
    "### After looking each and every record , it seems row 167 has data displacement issue, lets fix that"
   ]
  },
  {
   "cell_type": "code",
   "execution_count": 367,
   "metadata": {},
   "outputs": [
    {
     "data": {
      "text/plain": [
       "day            0\n",
       "month          0\n",
       "year           0\n",
       "Temperature    0\n",
       " RH            0\n",
       " Ws            0\n",
       "Rain           0\n",
       "FFMC           0\n",
       "DMC            0\n",
       "DC             0\n",
       "ISI            0\n",
       "BUI            0\n",
       "FWI            0\n",
       "Classes        1\n",
       "dtype: int64"
      ]
     },
     "execution_count": 367,
     "metadata": {},
     "output_type": "execute_result"
    }
   ],
   "source": [
    "# checking for null\n",
    "full_df.isnull().sum()"
   ]
  },
  {
   "cell_type": "code",
   "execution_count": 368,
   "metadata": {},
   "outputs": [],
   "source": [
    "full_df = full_df.fillna('fire') "
   ]
  },
  {
   "cell_type": "code",
   "execution_count": 369,
   "metadata": {},
   "outputs": [
    {
     "data": {
      "text/plain": [
       "day            0\n",
       "month          0\n",
       "year           0\n",
       "Temperature    0\n",
       " RH            0\n",
       " Ws            0\n",
       "Rain           0\n",
       "FFMC           0\n",
       "DMC            0\n",
       "DC             0\n",
       "ISI            0\n",
       "BUI            0\n",
       "FWI            0\n",
       "Classes        0\n",
       "dtype: int64"
      ]
     },
     "execution_count": 369,
     "metadata": {},
     "output_type": "execute_result"
    }
   ],
   "source": [
    "# checking for null\n",
    "full_df.isnull().sum()"
   ]
  },
  {
   "cell_type": "code",
   "execution_count": 370,
   "metadata": {},
   "outputs": [
    {
     "name": "stdout",
     "output_type": "stream",
     "text": [
      "fire   \n"
     ]
    },
    {
     "data": {
      "text/plain": [
       "7.072199170124484"
      ]
     },
     "execution_count": 370,
     "metadata": {},
     "output_type": "execute_result"
    }
   ],
   "source": [
    "## grab the value that has wrong value\n",
    "print(full_df.iloc[165,12]) \n",
    "\n",
    "# take the records above the wrong record and convert to float\n",
    "df_FWI_half1 = full_df.iloc[1:164,12].astype(float)  \n",
    "df_FWI_half1\n",
    "\n",
    "# take the records below the wrong record and convert to float\n",
    "df_FWI_half2 = full_df.iloc[166:,12].astype(float)\n",
    "df_FWI_half2\n",
    "\n",
    "# create a temp df to conconatente teh float version of FWI column and get the mean\n",
    "df_FWI = df_FWI_half1.append(df_FWI_half2)\n",
    "df_FWI.mean()\n"
   ]
  },
  {
   "cell_type": "code",
   "execution_count": 371,
   "metadata": {},
   "outputs": [
    {
     "data": {
      "text/html": [
       "<div>\n",
       "<style scoped>\n",
       "    .dataframe tbody tr th:only-of-type {\n",
       "        vertical-align: middle;\n",
       "    }\n",
       "\n",
       "    .dataframe tbody tr th {\n",
       "        vertical-align: top;\n",
       "    }\n",
       "\n",
       "    .dataframe thead th {\n",
       "        text-align: right;\n",
       "    }\n",
       "</style>\n",
       "<table border=\"1\" class=\"dataframe\">\n",
       "  <thead>\n",
       "    <tr style=\"text-align: right;\">\n",
       "      <th></th>\n",
       "      <th>day</th>\n",
       "      <th>month</th>\n",
       "      <th>year</th>\n",
       "      <th>Temperature</th>\n",
       "      <th>RH</th>\n",
       "      <th>Ws</th>\n",
       "      <th>Rain</th>\n",
       "      <th>FFMC</th>\n",
       "      <th>DMC</th>\n",
       "      <th>DC</th>\n",
       "      <th>ISI</th>\n",
       "      <th>BUI</th>\n",
       "      <th>FWI</th>\n",
       "      <th>Classes</th>\n",
       "    </tr>\n",
       "  </thead>\n",
       "  <tbody>\n",
       "    <tr>\n",
       "      <th>167</th>\n",
       "      <td>14</td>\n",
       "      <td>07</td>\n",
       "      <td>2012</td>\n",
       "      <td>37</td>\n",
       "      <td>37</td>\n",
       "      <td>18</td>\n",
       "      <td>0.2</td>\n",
       "      <td>88.9</td>\n",
       "      <td>12.9</td>\n",
       "      <td>14.6 9</td>\n",
       "      <td>12.5</td>\n",
       "      <td>10.4</td>\n",
       "      <td>7.07</td>\n",
       "      <td>fire</td>\n",
       "    </tr>\n",
       "  </tbody>\n",
       "</table>\n",
       "</div>"
      ],
      "text/plain": [
       "    day month  year Temperature  RH  Ws Rain   FFMC   DMC      DC   ISI   BUI  \\\n",
       "167  14    07  2012          37  37  18   0.2  88.9  12.9  14.6 9  12.5  10.4   \n",
       "\n",
       "      FWI Classes    \n",
       "167  7.07      fire  "
      ]
     },
     "execution_count": 371,
     "metadata": {},
     "output_type": "execute_result"
    }
   ],
   "source": [
    "# change the value from fire to mean of the FWI column\n",
    "full_df.iloc[165,12:13] = '7.07'\n",
    "full_df.iloc[165:166,]"
   ]
  },
  {
   "cell_type": "code",
   "execution_count": 372,
   "metadata": {},
   "outputs": [
    {
     "name": "stdout",
     "output_type": "stream",
     "text": [
      "<class 'pandas.core.frame.DataFrame'>\n",
      "Int64Index: 244 entries, 0 to 245\n",
      "Data columns (total 14 columns):\n",
      " #   Column       Non-Null Count  Dtype \n",
      "---  ------       --------------  ----- \n",
      " 0   day          244 non-null    object\n",
      " 1   month        244 non-null    object\n",
      " 2   year         244 non-null    object\n",
      " 3   Temperature  244 non-null    object\n",
      " 4    RH          244 non-null    object\n",
      " 5    Ws          244 non-null    object\n",
      " 6   Rain         244 non-null    object\n",
      " 7   FFMC         244 non-null    object\n",
      " 8   DMC          244 non-null    object\n",
      " 9   DC           244 non-null    object\n",
      " 10  ISI          244 non-null    object\n",
      " 11  BUI          244 non-null    object\n",
      " 12  FWI          244 non-null    object\n",
      " 13  Classes      244 non-null    object\n",
      "dtypes: object(14)\n",
      "memory usage: 28.6+ KB\n"
     ]
    }
   ],
   "source": [
    "full_df.info()"
   ]
  },
  {
   "cell_type": "markdown",
   "metadata": {},
   "source": [
    "##### now teh dat alooks good, lets convert all object variables to int or flow"
   ]
  },
  {
   "cell_type": "code",
   "execution_count": 373,
   "metadata": {},
   "outputs": [
    {
     "data": {
      "text/html": [
       "<div>\n",
       "<style scoped>\n",
       "    .dataframe tbody tr th:only-of-type {\n",
       "        vertical-align: middle;\n",
       "    }\n",
       "\n",
       "    .dataframe tbody tr th {\n",
       "        vertical-align: top;\n",
       "    }\n",
       "\n",
       "    .dataframe thead th {\n",
       "        text-align: right;\n",
       "    }\n",
       "</style>\n",
       "<table border=\"1\" class=\"dataframe\">\n",
       "  <thead>\n",
       "    <tr style=\"text-align: right;\">\n",
       "      <th></th>\n",
       "      <th>day</th>\n",
       "      <th>month</th>\n",
       "      <th>year</th>\n",
       "      <th>Temperature</th>\n",
       "      <th>RH</th>\n",
       "      <th>Ws</th>\n",
       "      <th>Rain</th>\n",
       "      <th>FFMC</th>\n",
       "      <th>DMC</th>\n",
       "      <th>DC</th>\n",
       "      <th>ISI</th>\n",
       "      <th>BUI</th>\n",
       "      <th>FWI</th>\n",
       "      <th>Classes</th>\n",
       "    </tr>\n",
       "  </thead>\n",
       "  <tbody>\n",
       "    <tr>\n",
       "      <th>0</th>\n",
       "      <td>01</td>\n",
       "      <td>06</td>\n",
       "      <td>2012</td>\n",
       "      <td>29</td>\n",
       "      <td>57</td>\n",
       "      <td>18</td>\n",
       "      <td>0</td>\n",
       "      <td>65.7</td>\n",
       "      <td>3.4</td>\n",
       "      <td>7.6</td>\n",
       "      <td>1.3</td>\n",
       "      <td>3.4</td>\n",
       "      <td>0.5</td>\n",
       "      <td>not fire</td>\n",
       "    </tr>\n",
       "    <tr>\n",
       "      <th>1</th>\n",
       "      <td>02</td>\n",
       "      <td>06</td>\n",
       "      <td>2012</td>\n",
       "      <td>29</td>\n",
       "      <td>61</td>\n",
       "      <td>13</td>\n",
       "      <td>1.3</td>\n",
       "      <td>64.4</td>\n",
       "      <td>4.1</td>\n",
       "      <td>7.6</td>\n",
       "      <td>1</td>\n",
       "      <td>3.9</td>\n",
       "      <td>0.4</td>\n",
       "      <td>not fire</td>\n",
       "    </tr>\n",
       "    <tr>\n",
       "      <th>2</th>\n",
       "      <td>03</td>\n",
       "      <td>06</td>\n",
       "      <td>2012</td>\n",
       "      <td>26</td>\n",
       "      <td>82</td>\n",
       "      <td>22</td>\n",
       "      <td>13.1</td>\n",
       "      <td>47.1</td>\n",
       "      <td>2.5</td>\n",
       "      <td>7.1</td>\n",
       "      <td>0.3</td>\n",
       "      <td>2.7</td>\n",
       "      <td>0.1</td>\n",
       "      <td>not fire</td>\n",
       "    </tr>\n",
       "    <tr>\n",
       "      <th>3</th>\n",
       "      <td>04</td>\n",
       "      <td>06</td>\n",
       "      <td>2012</td>\n",
       "      <td>25</td>\n",
       "      <td>89</td>\n",
       "      <td>13</td>\n",
       "      <td>2.5</td>\n",
       "      <td>28.6</td>\n",
       "      <td>1.3</td>\n",
       "      <td>6.9</td>\n",
       "      <td>0</td>\n",
       "      <td>1.7</td>\n",
       "      <td>0</td>\n",
       "      <td>not fire</td>\n",
       "    </tr>\n",
       "    <tr>\n",
       "      <th>4</th>\n",
       "      <td>05</td>\n",
       "      <td>06</td>\n",
       "      <td>2012</td>\n",
       "      <td>27</td>\n",
       "      <td>77</td>\n",
       "      <td>16</td>\n",
       "      <td>0</td>\n",
       "      <td>64.8</td>\n",
       "      <td>3</td>\n",
       "      <td>14.2</td>\n",
       "      <td>1.2</td>\n",
       "      <td>3.9</td>\n",
       "      <td>0.5</td>\n",
       "      <td>not fire</td>\n",
       "    </tr>\n",
       "  </tbody>\n",
       "</table>\n",
       "</div>"
      ],
      "text/plain": [
       "  day month  year Temperature  RH  Ws Rain   FFMC  DMC    DC  ISI  BUI  FWI  \\\n",
       "0  01    06  2012          29  57  18     0  65.7  3.4   7.6  1.3  3.4  0.5   \n",
       "1  02    06  2012          29  61  13   1.3  64.4  4.1   7.6    1  3.9  0.4   \n",
       "2  03    06  2012          26  82  22  13.1  47.1  2.5   7.1  0.3  2.7  0.1   \n",
       "3  04    06  2012          25  89  13   2.5  28.6  1.3   6.9    0  1.7    0   \n",
       "4  05    06  2012          27  77  16     0  64.8    3  14.2  1.2  3.9  0.5   \n",
       "\n",
       "     Classes    \n",
       "0  not fire     \n",
       "1  not fire     \n",
       "2  not fire     \n",
       "3  not fire     \n",
       "4  not fire     "
      ]
     },
     "execution_count": 373,
     "metadata": {},
     "output_type": "execute_result"
    }
   ],
   "source": [
    "full_df.head()"
   ]
  },
  {
   "cell_type": "code",
   "execution_count": null,
   "metadata": {},
   "outputs": [],
   "source": [
    "# Row # 167 is currepted, better to drop it\n",
    "full_df.drop(167,inplace=True)"
   ]
  },
  {
   "cell_type": "code",
   "execution_count": 404,
   "metadata": {},
   "outputs": [],
   "source": [
    "#full_df.columns\n",
    "int_columns = ['day','month','year','Temperature',' RH',' Ws']\n",
    "float_columns = ['Rain ', 'FFMC','DMC', 'DC', 'ISI', 'BUI', 'FWI']\n",
    "for column in int_columns:\n",
    "    full_df[column] = full_df[column].astype(int)\n",
    "\n",
    "for column in float_columns:\n",
    "    full_df[column] = full_df[column].astype(float)"
   ]
  },
  {
   "cell_type": "code",
   "execution_count": 406,
   "metadata": {},
   "outputs": [
    {
     "name": "stdout",
     "output_type": "stream",
     "text": [
      "<class 'pandas.core.frame.DataFrame'>\n",
      "Int64Index: 243 entries, 0 to 245\n",
      "Data columns (total 14 columns):\n",
      " #   Column       Non-Null Count  Dtype  \n",
      "---  ------       --------------  -----  \n",
      " 0   day          243 non-null    int32  \n",
      " 1   month        243 non-null    int32  \n",
      " 2   year         243 non-null    int32  \n",
      " 3   Temperature  243 non-null    int32  \n",
      " 4    RH          243 non-null    int32  \n",
      " 5    Ws          243 non-null    int32  \n",
      " 6   Rain         243 non-null    float64\n",
      " 7   FFMC         243 non-null    float64\n",
      " 8   DMC          243 non-null    float64\n",
      " 9   DC           243 non-null    float64\n",
      " 10  ISI          243 non-null    float64\n",
      " 11  BUI          243 non-null    float64\n",
      " 12  FWI          243 non-null    float64\n",
      " 13  Classes      243 non-null    object \n",
      "dtypes: float64(7), int32(6), object(1)\n",
      "memory usage: 22.8+ KB\n"
     ]
    }
   ],
   "source": [
    "full_df.info()"
   ]
  },
  {
   "cell_type": "code",
   "execution_count": 400,
   "metadata": {},
   "outputs": [
    {
     "data": {
      "text/html": [
       "<div>\n",
       "<style scoped>\n",
       "    .dataframe tbody tr th:only-of-type {\n",
       "        vertical-align: middle;\n",
       "    }\n",
       "\n",
       "    .dataframe tbody tr th {\n",
       "        vertical-align: top;\n",
       "    }\n",
       "\n",
       "    .dataframe thead th {\n",
       "        text-align: right;\n",
       "    }\n",
       "</style>\n",
       "<table border=\"1\" class=\"dataframe\">\n",
       "  <thead>\n",
       "    <tr style=\"text-align: right;\">\n",
       "      <th></th>\n",
       "      <th>day</th>\n",
       "      <th>month</th>\n",
       "      <th>year</th>\n",
       "      <th>Temperature</th>\n",
       "      <th>RH</th>\n",
       "      <th>Ws</th>\n",
       "      <th>Rain</th>\n",
       "      <th>FFMC</th>\n",
       "      <th>DMC</th>\n",
       "      <th>DC</th>\n",
       "      <th>ISI</th>\n",
       "      <th>BUI</th>\n",
       "      <th>FWI</th>\n",
       "      <th>Classes</th>\n",
       "    </tr>\n",
       "  </thead>\n",
       "  <tbody>\n",
       "    <tr>\n",
       "      <th>4</th>\n",
       "      <td>5</td>\n",
       "      <td>6</td>\n",
       "      <td>2012</td>\n",
       "      <td>27</td>\n",
       "      <td>77</td>\n",
       "      <td>16</td>\n",
       "      <td>0.0</td>\n",
       "      <td>64.8</td>\n",
       "      <td>3.0</td>\n",
       "      <td>14.2</td>\n",
       "      <td>1.2</td>\n",
       "      <td>3.9</td>\n",
       "      <td>0.5</td>\n",
       "      <td>not fire</td>\n",
       "    </tr>\n",
       "    <tr>\n",
       "      <th>60</th>\n",
       "      <td>31</td>\n",
       "      <td>7</td>\n",
       "      <td>2012</td>\n",
       "      <td>35</td>\n",
       "      <td>64</td>\n",
       "      <td>17</td>\n",
       "      <td>0.0</td>\n",
       "      <td>87.2</td>\n",
       "      <td>31.9</td>\n",
       "      <td>145.7</td>\n",
       "      <td>6.8</td>\n",
       "      <td>41.2</td>\n",
       "      <td>15.7</td>\n",
       "      <td>fire</td>\n",
       "    </tr>\n",
       "    <tr>\n",
       "      <th>81</th>\n",
       "      <td>21</td>\n",
       "      <td>8</td>\n",
       "      <td>2012</td>\n",
       "      <td>36</td>\n",
       "      <td>58</td>\n",
       "      <td>19</td>\n",
       "      <td>0.0</td>\n",
       "      <td>88.6</td>\n",
       "      <td>29.6</td>\n",
       "      <td>141.1</td>\n",
       "      <td>9.2</td>\n",
       "      <td>38.8</td>\n",
       "      <td>18.4</td>\n",
       "      <td>fire</td>\n",
       "    </tr>\n",
       "    <tr>\n",
       "      <th>132</th>\n",
       "      <td>9</td>\n",
       "      <td>6</td>\n",
       "      <td>2012</td>\n",
       "      <td>27</td>\n",
       "      <td>59</td>\n",
       "      <td>18</td>\n",
       "      <td>0.1</td>\n",
       "      <td>78.1</td>\n",
       "      <td>8.5</td>\n",
       "      <td>14.7</td>\n",
       "      <td>2.4</td>\n",
       "      <td>8.3</td>\n",
       "      <td>1.9</td>\n",
       "      <td>not fire</td>\n",
       "    </tr>\n",
       "    <tr>\n",
       "      <th>138</th>\n",
       "      <td>15</td>\n",
       "      <td>6</td>\n",
       "      <td>2012</td>\n",
       "      <td>28</td>\n",
       "      <td>90</td>\n",
       "      <td>15</td>\n",
       "      <td>0.0</td>\n",
       "      <td>66.8</td>\n",
       "      <td>7.2</td>\n",
       "      <td>14.7</td>\n",
       "      <td>1.2</td>\n",
       "      <td>7.1</td>\n",
       "      <td>0.6</td>\n",
       "      <td>not fire</td>\n",
       "    </tr>\n",
       "    <tr>\n",
       "      <th>167</th>\n",
       "      <td>14</td>\n",
       "      <td>7</td>\n",
       "      <td>2012</td>\n",
       "      <td>37</td>\n",
       "      <td>37</td>\n",
       "      <td>18</td>\n",
       "      <td>0.2</td>\n",
       "      <td>88.9</td>\n",
       "      <td>12.9</td>\n",
       "      <td>14.6 9</td>\n",
       "      <td>12.5</td>\n",
       "      <td>10.4</td>\n",
       "      <td>7.07</td>\n",
       "      <td>fire</td>\n",
       "    </tr>\n",
       "    <tr>\n",
       "      <th>208</th>\n",
       "      <td>24</td>\n",
       "      <td>8</td>\n",
       "      <td>2012</td>\n",
       "      <td>35</td>\n",
       "      <td>38</td>\n",
       "      <td>15</td>\n",
       "      <td>0.0</td>\n",
       "      <td>92.1</td>\n",
       "      <td>51.3</td>\n",
       "      <td>147.7</td>\n",
       "      <td>12.2</td>\n",
       "      <td>54.9</td>\n",
       "      <td>26.9</td>\n",
       "      <td>fire</td>\n",
       "    </tr>\n",
       "    <tr>\n",
       "      <th>213</th>\n",
       "      <td>29</td>\n",
       "      <td>8</td>\n",
       "      <td>2012</td>\n",
       "      <td>35</td>\n",
       "      <td>53</td>\n",
       "      <td>17</td>\n",
       "      <td>0.5</td>\n",
       "      <td>80.2</td>\n",
       "      <td>20.7</td>\n",
       "      <td>149.2</td>\n",
       "      <td>2.7</td>\n",
       "      <td>30.6</td>\n",
       "      <td>5.9</td>\n",
       "      <td>fire</td>\n",
       "    </tr>\n",
       "  </tbody>\n",
       "</table>\n",
       "</div>"
      ],
      "text/plain": [
       "     day  month  year  Temperature   RH   Ws  Rain   FFMC   DMC      DC   ISI  \\\n",
       "4      5      6  2012           27   77   16    0.0  64.8   3.0    14.2   1.2   \n",
       "60    31      7  2012           35   64   17    0.0  87.2  31.9   145.7   6.8   \n",
       "81    21      8  2012           36   58   19    0.0  88.6  29.6   141.1   9.2   \n",
       "132    9      6  2012           27   59   18    0.1  78.1   8.5    14.7   2.4   \n",
       "138   15      6  2012           28   90   15    0.0  66.8   7.2    14.7   1.2   \n",
       "167   14      7  2012           37   37   18    0.2  88.9  12.9  14.6 9  12.5   \n",
       "208   24      8  2012           35   38   15    0.0  92.1  51.3   147.7  12.2   \n",
       "213   29      8  2012           35   53   17    0.5  80.2  20.7   149.2   2.7   \n",
       "\n",
       "      BUI   FWI    Classes    \n",
       "4     3.9   0.5  not fire     \n",
       "60   41.2  15.7      fire     \n",
       "81   38.8  18.4      fire     \n",
       "132   8.3   1.9  not fire     \n",
       "138   7.1   0.6  not fire     \n",
       "167  10.4  7.07         fire  \n",
       "208  54.9  26.9      fire     \n",
       "213  30.6   5.9      fire     "
      ]
     },
     "execution_count": 400,
     "metadata": {},
     "output_type": "execute_result"
    }
   ],
   "source": [
    "#full_df[full_df['FWI'] == '14']\n"
   ]
  },
  {
   "cell_type": "code",
   "execution_count": 402,
   "metadata": {},
   "outputs": [],
   "source": [
    "full_df.drop(167,inplace=True)"
   ]
  },
  {
   "cell_type": "code",
   "execution_count": 407,
   "metadata": {},
   "outputs": [
    {
     "data": {
      "text/plain": [
       "Index(['day', 'month', 'year', 'Temperature', ' RH', ' Ws', 'Rain ', 'FFMC',\n",
       "       'DMC', 'DC', 'ISI', 'BUI', 'FWI', 'Classes  '],\n",
       "      dtype='object')"
      ]
     },
     "execution_count": 407,
     "metadata": {},
     "output_type": "execute_result"
    }
   ],
   "source": [
    "full_df.columns"
   ]
  },
  {
   "cell_type": "code",
   "execution_count": 408,
   "metadata": {},
   "outputs": [
    {
     "data": {
      "text/plain": [
       "array(['not fire   ', 'fire   ', 'fire', 'fire ', 'not fire', 'not fire ',\n",
       "       'not fire     ', 'not fire    '], dtype=object)"
      ]
     },
     "execution_count": 408,
     "metadata": {},
     "output_type": "execute_result"
    }
   ],
   "source": [
    "full_df['Classes  '].unique()"
   ]
  },
  {
   "cell_type": "code",
   "execution_count": 411,
   "metadata": {},
   "outputs": [],
   "source": [
    "full_df['Classes  ']=full_df['Classes  '].map({'not fire   ':'0', 'fire   ':'1', 'fire':'1', 'fire ':'1', 'not fire':'0', 'not fire ':'0',\n",
    "       'not fire     ':'0', 'not fire    ':'0'})"
   ]
  },
  {
   "cell_type": "code",
   "execution_count": 415,
   "metadata": {},
   "outputs": [
    {
     "data": {
      "text/plain": [
       "array([0, 1])"
      ]
     },
     "execution_count": 415,
     "metadata": {},
     "output_type": "execute_result"
    }
   ],
   "source": [
    "full_df['Classes  '].astype(int).unique()"
   ]
  },
  {
   "cell_type": "code",
   "execution_count": 432,
   "metadata": {},
   "outputs": [],
   "source": [
    "# also fix header names, which has plenty of spaces in between\n",
    "full_df.rename(columns={' RH':'RH',' Ws':'Ws', 'Rain ':'Rain','Classes  ':'Classes'},inplace=True)"
   ]
  },
  {
   "cell_type": "code",
   "execution_count": 433,
   "metadata": {},
   "outputs": [
    {
     "data": {
      "text/plain": [
       "Index(['day', 'month', 'year', 'Temperature', 'RH', 'Ws', 'Rain', 'FFMC',\n",
       "       'DMC', 'DC', 'ISI', 'BUI', 'FWI', 'Classes'],\n",
       "      dtype='object')"
      ]
     },
     "execution_count": 433,
     "metadata": {},
     "output_type": "execute_result"
    }
   ],
   "source": [
    "full_df.columns"
   ]
  },
  {
   "cell_type": "code",
   "execution_count": 483,
   "metadata": {},
   "outputs": [
    {
     "data": {
      "text/html": [
       "<div>\n",
       "<style scoped>\n",
       "    .dataframe tbody tr th:only-of-type {\n",
       "        vertical-align: middle;\n",
       "    }\n",
       "\n",
       "    .dataframe tbody tr th {\n",
       "        vertical-align: top;\n",
       "    }\n",
       "\n",
       "    .dataframe thead th {\n",
       "        text-align: right;\n",
       "    }\n",
       "</style>\n",
       "<table border=\"1\" class=\"dataframe\">\n",
       "  <thead>\n",
       "    <tr style=\"text-align: right;\">\n",
       "      <th></th>\n",
       "      <th>day</th>\n",
       "      <th>month</th>\n",
       "      <th>year</th>\n",
       "      <th>Temperature</th>\n",
       "      <th>RH</th>\n",
       "      <th>Ws</th>\n",
       "      <th>Rain</th>\n",
       "      <th>FFMC</th>\n",
       "      <th>DMC</th>\n",
       "      <th>DC</th>\n",
       "      <th>ISI</th>\n",
       "      <th>BUI</th>\n",
       "      <th>FWI</th>\n",
       "      <th>Classes</th>\n",
       "    </tr>\n",
       "  </thead>\n",
       "  <tbody>\n",
       "    <tr>\n",
       "      <th>241</th>\n",
       "      <td>26</td>\n",
       "      <td>9</td>\n",
       "      <td>2012</td>\n",
       "      <td>30</td>\n",
       "      <td>65</td>\n",
       "      <td>14</td>\n",
       "      <td>0.0</td>\n",
       "      <td>85.4</td>\n",
       "      <td>16.0</td>\n",
       "      <td>44.5</td>\n",
       "      <td>4.5</td>\n",
       "      <td>16.9</td>\n",
       "      <td>6.5</td>\n",
       "      <td>1</td>\n",
       "    </tr>\n",
       "    <tr>\n",
       "      <th>242</th>\n",
       "      <td>27</td>\n",
       "      <td>9</td>\n",
       "      <td>2012</td>\n",
       "      <td>28</td>\n",
       "      <td>87</td>\n",
       "      <td>15</td>\n",
       "      <td>4.4</td>\n",
       "      <td>41.1</td>\n",
       "      <td>6.5</td>\n",
       "      <td>8.0</td>\n",
       "      <td>0.1</td>\n",
       "      <td>6.2</td>\n",
       "      <td>0.0</td>\n",
       "      <td>0</td>\n",
       "    </tr>\n",
       "    <tr>\n",
       "      <th>243</th>\n",
       "      <td>28</td>\n",
       "      <td>9</td>\n",
       "      <td>2012</td>\n",
       "      <td>27</td>\n",
       "      <td>87</td>\n",
       "      <td>29</td>\n",
       "      <td>0.5</td>\n",
       "      <td>45.9</td>\n",
       "      <td>3.5</td>\n",
       "      <td>7.9</td>\n",
       "      <td>0.4</td>\n",
       "      <td>3.4</td>\n",
       "      <td>0.2</td>\n",
       "      <td>0</td>\n",
       "    </tr>\n",
       "    <tr>\n",
       "      <th>244</th>\n",
       "      <td>29</td>\n",
       "      <td>9</td>\n",
       "      <td>2012</td>\n",
       "      <td>24</td>\n",
       "      <td>54</td>\n",
       "      <td>18</td>\n",
       "      <td>0.1</td>\n",
       "      <td>79.7</td>\n",
       "      <td>4.3</td>\n",
       "      <td>15.2</td>\n",
       "      <td>1.7</td>\n",
       "      <td>5.1</td>\n",
       "      <td>0.7</td>\n",
       "      <td>0</td>\n",
       "    </tr>\n",
       "    <tr>\n",
       "      <th>245</th>\n",
       "      <td>30</td>\n",
       "      <td>9</td>\n",
       "      <td>2012</td>\n",
       "      <td>24</td>\n",
       "      <td>64</td>\n",
       "      <td>15</td>\n",
       "      <td>0.2</td>\n",
       "      <td>67.3</td>\n",
       "      <td>3.8</td>\n",
       "      <td>16.5</td>\n",
       "      <td>1.2</td>\n",
       "      <td>4.8</td>\n",
       "      <td>0.5</td>\n",
       "      <td>0</td>\n",
       "    </tr>\n",
       "  </tbody>\n",
       "</table>\n",
       "</div>"
      ],
      "text/plain": [
       "     day  month  year  Temperature  RH  Ws  Rain  FFMC   DMC    DC  ISI   BUI  \\\n",
       "241   26      9  2012           30  65  14   0.0  85.4  16.0  44.5  4.5  16.9   \n",
       "242   27      9  2012           28  87  15   4.4  41.1   6.5   8.0  0.1   6.2   \n",
       "243   28      9  2012           27  87  29   0.5  45.9   3.5   7.9  0.4   3.4   \n",
       "244   29      9  2012           24  54  18   0.1  79.7   4.3  15.2  1.7   5.1   \n",
       "245   30      9  2012           24  64  15   0.2  67.3   3.8  16.5  1.2   4.8   \n",
       "\n",
       "     FWI Classes  \n",
       "241  6.5       1  \n",
       "242  0.0       0  \n",
       "243  0.2       0  \n",
       "244  0.7       0  \n",
       "245  0.5       0  "
      ]
     },
     "execution_count": 483,
     "metadata": {},
     "output_type": "execute_result"
    }
   ],
   "source": [
    "full_df.tail()"
   ]
  },
  {
   "cell_type": "code",
   "execution_count": 517,
   "metadata": {},
   "outputs": [
    {
     "data": {
      "text/html": [
       "<div>\n",
       "<style scoped>\n",
       "    .dataframe tbody tr th:only-of-type {\n",
       "        vertical-align: middle;\n",
       "    }\n",
       "\n",
       "    .dataframe tbody tr th {\n",
       "        vertical-align: top;\n",
       "    }\n",
       "\n",
       "    .dataframe thead th {\n",
       "        text-align: right;\n",
       "    }\n",
       "</style>\n",
       "<table border=\"1\" class=\"dataframe\">\n",
       "  <thead>\n",
       "    <tr style=\"text-align: right;\">\n",
       "      <th></th>\n",
       "      <th>day</th>\n",
       "      <th>month</th>\n",
       "      <th>year</th>\n",
       "      <th>Temperature</th>\n",
       "    </tr>\n",
       "  </thead>\n",
       "  <tbody>\n",
       "    <tr>\n",
       "      <th>0</th>\n",
       "      <td>1</td>\n",
       "      <td>6</td>\n",
       "      <td>2012</td>\n",
       "      <td>29</td>\n",
       "    </tr>\n",
       "    <tr>\n",
       "      <th>1</th>\n",
       "      <td>2</td>\n",
       "      <td>6</td>\n",
       "      <td>2012</td>\n",
       "      <td>29</td>\n",
       "    </tr>\n",
       "    <tr>\n",
       "      <th>2</th>\n",
       "      <td>3</td>\n",
       "      <td>6</td>\n",
       "      <td>2012</td>\n",
       "      <td>26</td>\n",
       "    </tr>\n",
       "    <tr>\n",
       "      <th>3</th>\n",
       "      <td>4</td>\n",
       "      <td>6</td>\n",
       "      <td>2012</td>\n",
       "      <td>25</td>\n",
       "    </tr>\n",
       "    <tr>\n",
       "      <th>4</th>\n",
       "      <td>5</td>\n",
       "      <td>6</td>\n",
       "      <td>2012</td>\n",
       "      <td>27</td>\n",
       "    </tr>\n",
       "    <tr>\n",
       "      <th>...</th>\n",
       "      <td>...</td>\n",
       "      <td>...</td>\n",
       "      <td>...</td>\n",
       "      <td>...</td>\n",
       "    </tr>\n",
       "    <tr>\n",
       "      <th>241</th>\n",
       "      <td>26</td>\n",
       "      <td>9</td>\n",
       "      <td>2012</td>\n",
       "      <td>30</td>\n",
       "    </tr>\n",
       "    <tr>\n",
       "      <th>242</th>\n",
       "      <td>27</td>\n",
       "      <td>9</td>\n",
       "      <td>2012</td>\n",
       "      <td>28</td>\n",
       "    </tr>\n",
       "    <tr>\n",
       "      <th>243</th>\n",
       "      <td>28</td>\n",
       "      <td>9</td>\n",
       "      <td>2012</td>\n",
       "      <td>27</td>\n",
       "    </tr>\n",
       "    <tr>\n",
       "      <th>244</th>\n",
       "      <td>29</td>\n",
       "      <td>9</td>\n",
       "      <td>2012</td>\n",
       "      <td>24</td>\n",
       "    </tr>\n",
       "    <tr>\n",
       "      <th>245</th>\n",
       "      <td>30</td>\n",
       "      <td>9</td>\n",
       "      <td>2012</td>\n",
       "      <td>24</td>\n",
       "    </tr>\n",
       "  </tbody>\n",
       "</table>\n",
       "<p>243 rows × 4 columns</p>\n",
       "</div>"
      ],
      "text/plain": [
       "     day  month  year  Temperature\n",
       "0      1      6  2012           29\n",
       "1      2      6  2012           29\n",
       "2      3      6  2012           26\n",
       "3      4      6  2012           25\n",
       "4      5      6  2012           27\n",
       "..   ...    ...   ...          ...\n",
       "241   26      9  2012           30\n",
       "242   27      9  2012           28\n",
       "243   28      9  2012           27\n",
       "244   29      9  2012           24\n",
       "245   30      9  2012           24\n",
       "\n",
       "[243 rows x 4 columns]"
      ]
     },
     "execution_count": 517,
     "metadata": {},
     "output_type": "execute_result"
    }
   ],
   "source": [
    "# create saparate dataframe for regerssion model\n",
    "reg_df = full_df.loc[:,'day':'Temperature']\n",
    "reg_df"
   ]
  },
  {
   "cell_type": "code",
   "execution_count": 518,
   "metadata": {},
   "outputs": [
    {
     "data": {
      "text/html": [
       "<div>\n",
       "<style scoped>\n",
       "    .dataframe tbody tr th:only-of-type {\n",
       "        vertical-align: middle;\n",
       "    }\n",
       "\n",
       "    .dataframe tbody tr th {\n",
       "        vertical-align: top;\n",
       "    }\n",
       "\n",
       "    .dataframe thead th {\n",
       "        text-align: right;\n",
       "    }\n",
       "</style>\n",
       "<table border=\"1\" class=\"dataframe\">\n",
       "  <thead>\n",
       "    <tr style=\"text-align: right;\">\n",
       "      <th></th>\n",
       "      <th>RH</th>\n",
       "      <th>Ws</th>\n",
       "      <th>Rain</th>\n",
       "      <th>FFMC</th>\n",
       "      <th>DMC</th>\n",
       "      <th>DC</th>\n",
       "      <th>ISI</th>\n",
       "      <th>BUI</th>\n",
       "      <th>FWI</th>\n",
       "      <th>Classes</th>\n",
       "    </tr>\n",
       "  </thead>\n",
       "  <tbody>\n",
       "    <tr>\n",
       "      <th>0</th>\n",
       "      <td>57</td>\n",
       "      <td>18</td>\n",
       "      <td>0.0</td>\n",
       "      <td>65.7</td>\n",
       "      <td>3.4</td>\n",
       "      <td>7.6</td>\n",
       "      <td>1.3</td>\n",
       "      <td>3.4</td>\n",
       "      <td>0.5</td>\n",
       "      <td>0</td>\n",
       "    </tr>\n",
       "    <tr>\n",
       "      <th>1</th>\n",
       "      <td>61</td>\n",
       "      <td>13</td>\n",
       "      <td>1.3</td>\n",
       "      <td>64.4</td>\n",
       "      <td>4.1</td>\n",
       "      <td>7.6</td>\n",
       "      <td>1.0</td>\n",
       "      <td>3.9</td>\n",
       "      <td>0.4</td>\n",
       "      <td>0</td>\n",
       "    </tr>\n",
       "    <tr>\n",
       "      <th>2</th>\n",
       "      <td>82</td>\n",
       "      <td>22</td>\n",
       "      <td>13.1</td>\n",
       "      <td>47.1</td>\n",
       "      <td>2.5</td>\n",
       "      <td>7.1</td>\n",
       "      <td>0.3</td>\n",
       "      <td>2.7</td>\n",
       "      <td>0.1</td>\n",
       "      <td>0</td>\n",
       "    </tr>\n",
       "    <tr>\n",
       "      <th>3</th>\n",
       "      <td>89</td>\n",
       "      <td>13</td>\n",
       "      <td>2.5</td>\n",
       "      <td>28.6</td>\n",
       "      <td>1.3</td>\n",
       "      <td>6.9</td>\n",
       "      <td>0.0</td>\n",
       "      <td>1.7</td>\n",
       "      <td>0.0</td>\n",
       "      <td>0</td>\n",
       "    </tr>\n",
       "    <tr>\n",
       "      <th>4</th>\n",
       "      <td>77</td>\n",
       "      <td>16</td>\n",
       "      <td>0.0</td>\n",
       "      <td>64.8</td>\n",
       "      <td>3.0</td>\n",
       "      <td>14.2</td>\n",
       "      <td>1.2</td>\n",
       "      <td>3.9</td>\n",
       "      <td>0.5</td>\n",
       "      <td>0</td>\n",
       "    </tr>\n",
       "    <tr>\n",
       "      <th>...</th>\n",
       "      <td>...</td>\n",
       "      <td>...</td>\n",
       "      <td>...</td>\n",
       "      <td>...</td>\n",
       "      <td>...</td>\n",
       "      <td>...</td>\n",
       "      <td>...</td>\n",
       "      <td>...</td>\n",
       "      <td>...</td>\n",
       "      <td>...</td>\n",
       "    </tr>\n",
       "    <tr>\n",
       "      <th>241</th>\n",
       "      <td>65</td>\n",
       "      <td>14</td>\n",
       "      <td>0.0</td>\n",
       "      <td>85.4</td>\n",
       "      <td>16.0</td>\n",
       "      <td>44.5</td>\n",
       "      <td>4.5</td>\n",
       "      <td>16.9</td>\n",
       "      <td>6.5</td>\n",
       "      <td>1</td>\n",
       "    </tr>\n",
       "    <tr>\n",
       "      <th>242</th>\n",
       "      <td>87</td>\n",
       "      <td>15</td>\n",
       "      <td>4.4</td>\n",
       "      <td>41.1</td>\n",
       "      <td>6.5</td>\n",
       "      <td>8.0</td>\n",
       "      <td>0.1</td>\n",
       "      <td>6.2</td>\n",
       "      <td>0.0</td>\n",
       "      <td>0</td>\n",
       "    </tr>\n",
       "    <tr>\n",
       "      <th>243</th>\n",
       "      <td>87</td>\n",
       "      <td>29</td>\n",
       "      <td>0.5</td>\n",
       "      <td>45.9</td>\n",
       "      <td>3.5</td>\n",
       "      <td>7.9</td>\n",
       "      <td>0.4</td>\n",
       "      <td>3.4</td>\n",
       "      <td>0.2</td>\n",
       "      <td>0</td>\n",
       "    </tr>\n",
       "    <tr>\n",
       "      <th>244</th>\n",
       "      <td>54</td>\n",
       "      <td>18</td>\n",
       "      <td>0.1</td>\n",
       "      <td>79.7</td>\n",
       "      <td>4.3</td>\n",
       "      <td>15.2</td>\n",
       "      <td>1.7</td>\n",
       "      <td>5.1</td>\n",
       "      <td>0.7</td>\n",
       "      <td>0</td>\n",
       "    </tr>\n",
       "    <tr>\n",
       "      <th>245</th>\n",
       "      <td>64</td>\n",
       "      <td>15</td>\n",
       "      <td>0.2</td>\n",
       "      <td>67.3</td>\n",
       "      <td>3.8</td>\n",
       "      <td>16.5</td>\n",
       "      <td>1.2</td>\n",
       "      <td>4.8</td>\n",
       "      <td>0.5</td>\n",
       "      <td>0</td>\n",
       "    </tr>\n",
       "  </tbody>\n",
       "</table>\n",
       "<p>243 rows × 10 columns</p>\n",
       "</div>"
      ],
      "text/plain": [
       "     RH  Ws  Rain  FFMC   DMC    DC  ISI   BUI  FWI Classes\n",
       "0    57  18   0.0  65.7   3.4   7.6  1.3   3.4  0.5       0\n",
       "1    61  13   1.3  64.4   4.1   7.6  1.0   3.9  0.4       0\n",
       "2    82  22  13.1  47.1   2.5   7.1  0.3   2.7  0.1       0\n",
       "3    89  13   2.5  28.6   1.3   6.9  0.0   1.7  0.0       0\n",
       "4    77  16   0.0  64.8   3.0  14.2  1.2   3.9  0.5       0\n",
       "..   ..  ..   ...   ...   ...   ...  ...   ...  ...     ...\n",
       "241  65  14   0.0  85.4  16.0  44.5  4.5  16.9  6.5       1\n",
       "242  87  15   4.4  41.1   6.5   8.0  0.1   6.2  0.0       0\n",
       "243  87  29   0.5  45.9   3.5   7.9  0.4   3.4  0.2       0\n",
       "244  54  18   0.1  79.7   4.3  15.2  1.7   5.1  0.7       0\n",
       "245  64  15   0.2  67.3   3.8  16.5  1.2   4.8  0.5       0\n",
       "\n",
       "[243 rows x 10 columns]"
      ]
     },
     "execution_count": 518,
     "metadata": {},
     "output_type": "execute_result"
    }
   ],
   "source": [
    "clss_df=full_df.loc[:,'RH':'Classes']\n",
    "clss_df"
   ]
  },
  {
   "cell_type": "markdown",
   "metadata": {},
   "source": [
    "### EDA for Regression dataset"
   ]
  },
  {
   "cell_type": "code",
   "execution_count": 519,
   "metadata": {},
   "outputs": [
    {
     "data": {
      "text/plain": [
       "array([2012])"
      ]
     },
     "execution_count": 519,
     "metadata": {},
     "output_type": "execute_result"
    }
   ],
   "source": [
    "reg_df['year'].unique()"
   ]
  },
  {
   "cell_type": "code",
   "execution_count": 520,
   "metadata": {},
   "outputs": [
    {
     "data": {
      "text/html": [
       "<div>\n",
       "<style scoped>\n",
       "    .dataframe tbody tr th:only-of-type {\n",
       "        vertical-align: middle;\n",
       "    }\n",
       "\n",
       "    .dataframe tbody tr th {\n",
       "        vertical-align: top;\n",
       "    }\n",
       "\n",
       "    .dataframe thead th {\n",
       "        text-align: right;\n",
       "    }\n",
       "</style>\n",
       "<table border=\"1\" class=\"dataframe\">\n",
       "  <thead>\n",
       "    <tr style=\"text-align: right;\">\n",
       "      <th></th>\n",
       "      <th>day</th>\n",
       "      <th>month</th>\n",
       "      <th>Temperature</th>\n",
       "    </tr>\n",
       "  </thead>\n",
       "  <tbody>\n",
       "    <tr>\n",
       "      <th>0</th>\n",
       "      <td>1</td>\n",
       "      <td>6</td>\n",
       "      <td>29</td>\n",
       "    </tr>\n",
       "    <tr>\n",
       "      <th>1</th>\n",
       "      <td>2</td>\n",
       "      <td>6</td>\n",
       "      <td>29</td>\n",
       "    </tr>\n",
       "    <tr>\n",
       "      <th>2</th>\n",
       "      <td>3</td>\n",
       "      <td>6</td>\n",
       "      <td>26</td>\n",
       "    </tr>\n",
       "    <tr>\n",
       "      <th>3</th>\n",
       "      <td>4</td>\n",
       "      <td>6</td>\n",
       "      <td>25</td>\n",
       "    </tr>\n",
       "    <tr>\n",
       "      <th>4</th>\n",
       "      <td>5</td>\n",
       "      <td>6</td>\n",
       "      <td>27</td>\n",
       "    </tr>\n",
       "    <tr>\n",
       "      <th>...</th>\n",
       "      <td>...</td>\n",
       "      <td>...</td>\n",
       "      <td>...</td>\n",
       "    </tr>\n",
       "    <tr>\n",
       "      <th>241</th>\n",
       "      <td>26</td>\n",
       "      <td>9</td>\n",
       "      <td>30</td>\n",
       "    </tr>\n",
       "    <tr>\n",
       "      <th>242</th>\n",
       "      <td>27</td>\n",
       "      <td>9</td>\n",
       "      <td>28</td>\n",
       "    </tr>\n",
       "    <tr>\n",
       "      <th>243</th>\n",
       "      <td>28</td>\n",
       "      <td>9</td>\n",
       "      <td>27</td>\n",
       "    </tr>\n",
       "    <tr>\n",
       "      <th>244</th>\n",
       "      <td>29</td>\n",
       "      <td>9</td>\n",
       "      <td>24</td>\n",
       "    </tr>\n",
       "    <tr>\n",
       "      <th>245</th>\n",
       "      <td>30</td>\n",
       "      <td>9</td>\n",
       "      <td>24</td>\n",
       "    </tr>\n",
       "  </tbody>\n",
       "</table>\n",
       "<p>243 rows × 3 columns</p>\n",
       "</div>"
      ],
      "text/plain": [
       "     day  month  Temperature\n",
       "0      1      6           29\n",
       "1      2      6           29\n",
       "2      3      6           26\n",
       "3      4      6           25\n",
       "4      5      6           27\n",
       "..   ...    ...          ...\n",
       "241   26      9           30\n",
       "242   27      9           28\n",
       "243   28      9           27\n",
       "244   29      9           24\n",
       "245   30      9           24\n",
       "\n",
       "[243 rows x 3 columns]"
      ]
     },
     "execution_count": 520,
     "metadata": {},
     "output_type": "execute_result"
    }
   ],
   "source": [
    "# we can drop this column, as just one value, doesn't need it for model\n",
    "reg_df.drop('year',axis=1,inplace=True)\n",
    "reg_df"
   ]
  },
  {
   "cell_type": "code",
   "execution_count": 521,
   "metadata": {},
   "outputs": [
    {
     "data": {
      "text/html": [
       "<div>\n",
       "<style scoped>\n",
       "    .dataframe tbody tr th:only-of-type {\n",
       "        vertical-align: middle;\n",
       "    }\n",
       "\n",
       "    .dataframe tbody tr th {\n",
       "        vertical-align: top;\n",
       "    }\n",
       "\n",
       "    .dataframe thead th {\n",
       "        text-align: right;\n",
       "    }\n",
       "</style>\n",
       "<table border=\"1\" class=\"dataframe\">\n",
       "  <thead>\n",
       "    <tr style=\"text-align: right;\">\n",
       "      <th></th>\n",
       "      <th>day</th>\n",
       "      <th>month</th>\n",
       "      <th>Temperature</th>\n",
       "    </tr>\n",
       "  </thead>\n",
       "  <tbody>\n",
       "    <tr>\n",
       "      <th>0</th>\n",
       "      <td>1</td>\n",
       "      <td>6</td>\n",
       "      <td>29</td>\n",
       "    </tr>\n",
       "    <tr>\n",
       "      <th>1</th>\n",
       "      <td>2</td>\n",
       "      <td>6</td>\n",
       "      <td>29</td>\n",
       "    </tr>\n",
       "    <tr>\n",
       "      <th>2</th>\n",
       "      <td>3</td>\n",
       "      <td>6</td>\n",
       "      <td>26</td>\n",
       "    </tr>\n",
       "    <tr>\n",
       "      <th>3</th>\n",
       "      <td>4</td>\n",
       "      <td>6</td>\n",
       "      <td>25</td>\n",
       "    </tr>\n",
       "    <tr>\n",
       "      <th>4</th>\n",
       "      <td>5</td>\n",
       "      <td>6</td>\n",
       "      <td>27</td>\n",
       "    </tr>\n",
       "    <tr>\n",
       "      <th>...</th>\n",
       "      <td>...</td>\n",
       "      <td>...</td>\n",
       "      <td>...</td>\n",
       "    </tr>\n",
       "    <tr>\n",
       "      <th>241</th>\n",
       "      <td>26</td>\n",
       "      <td>9</td>\n",
       "      <td>30</td>\n",
       "    </tr>\n",
       "    <tr>\n",
       "      <th>242</th>\n",
       "      <td>27</td>\n",
       "      <td>9</td>\n",
       "      <td>28</td>\n",
       "    </tr>\n",
       "    <tr>\n",
       "      <th>243</th>\n",
       "      <td>28</td>\n",
       "      <td>9</td>\n",
       "      <td>27</td>\n",
       "    </tr>\n",
       "    <tr>\n",
       "      <th>244</th>\n",
       "      <td>29</td>\n",
       "      <td>9</td>\n",
       "      <td>24</td>\n",
       "    </tr>\n",
       "    <tr>\n",
       "      <th>245</th>\n",
       "      <td>30</td>\n",
       "      <td>9</td>\n",
       "      <td>24</td>\n",
       "    </tr>\n",
       "  </tbody>\n",
       "</table>\n",
       "<p>228 rows × 3 columns</p>\n",
       "</div>"
      ],
      "text/plain": [
       "     day  month  Temperature\n",
       "0      1      6           29\n",
       "1      2      6           29\n",
       "2      3      6           26\n",
       "3      4      6           25\n",
       "4      5      6           27\n",
       "..   ...    ...          ...\n",
       "241   26      9           30\n",
       "242   27      9           28\n",
       "243   28      9           27\n",
       "244   29      9           24\n",
       "245   30      9           24\n",
       "\n",
       "[228 rows x 3 columns]"
      ]
     },
     "execution_count": 521,
     "metadata": {},
     "output_type": "execute_result"
    }
   ],
   "source": [
    "# drop duplicate City name , keeping one with highest population\n",
    "reg_df.drop_duplicates(['day','month','Temperature'],keep='last',inplace=True)\n",
    "reg_df"
   ]
  },
  {
   "cell_type": "code",
   "execution_count": 552,
   "metadata": {},
   "outputs": [],
   "source": [
    "# now we have have data ready for creating the model , lets do that\n",
    "# lets saparate the indpendent variabel from dependents one\n",
    "X = reg_df.iloc[:,0:-1]\n",
    "y = reg_df.iloc[:,-1]\n",
    "from sklearn.model_selection import train_test_split\n",
    "X_train, X_test, y_train, y_test = train_test_split(X, y, test_size=0.3, random_state=0)\n"
   ]
  },
  {
   "cell_type": "code",
   "execution_count": 553,
   "metadata": {},
   "outputs": [],
   "source": [
    "# Linear Regression with cross validation\n",
    "from sklearn.linear_model import LinearRegression\n",
    "regressor=LinearRegression() # create object"
   ]
  },
  {
   "cell_type": "code",
   "execution_count": 555,
   "metadata": {},
   "outputs": [
    {
     "data": {
      "text/plain": [
       "-14.09823433566227"
      ]
     },
     "execution_count": 555,
     "metadata": {},
     "output_type": "execute_result"
    }
   ],
   "source": [
    "# Cross validation\n",
    "from sklearn.model_selection import cross_val_score\n",
    "import numpy as np\n",
    "\n",
    "# do the cross validation\n",
    "mse=cross_val_score(regressor,X_train,y_train,scoring='neg_mean_squared_error',cv=5)  # we can use different type of scoring\n",
    "mse\n",
    "\n",
    "np.mean(mse)  # thsi is averge of all mean sq error"
   ]
  },
  {
   "cell_type": "code",
   "execution_count": 557,
   "metadata": {},
   "outputs": [
    {
     "data": {
      "text/plain": [
       "array([31.56237144, 31.31223543, 32.19963394, 32.06769666, 31.64117059,\n",
       "       31.98202823, 31.90322908, 32.26469454, 31.7062312 , 31.47670301,\n",
       "       31.7987689 , 31.76623859, 31.67370089, 31.9238369 , 32.47543097,\n",
       "       31.52297186, 32.17902612, 31.80563817, 32.15336509, 32.38976254,\n",
       "       31.79189962, 31.64803986, 31.58803247, 32.17902612, 31.68743944,\n",
       "       31.63430132, 32.15336509, 31.87756805, 32.12083478, 31.71996974,\n",
       "       31.87069878, 32.75122801, 32.22529497, 32.62616   , 31.78503035,\n",
       "       32.43603139, 32.31783266, 31.91009835, 31.88443732, 32.02142781,\n",
       "       31.50923331, 31.66683162, 31.83816847, 32.67242885, 31.66683162,\n",
       "       31.39103458, 31.71996974, 31.98889751, 32.19276466, 31.46983374,\n",
       "       32.376024  , 31.9563672 , 32.30409412, 32.30409412, 32.35723224,\n",
       "       32.71182843, 31.72683902, 32.4685617 , 31.62743204, 32.5936297 ,\n",
       "       31.43730343, 32.23216424, 32.19276466, 32.18589539, 31.76623859,\n",
       "       32.29722485, 31.55550216, 31.60864029, 32.4685617 ])"
      ]
     },
     "execution_count": 557,
     "metadata": {},
     "output_type": "execute_result"
    }
   ],
   "source": [
    "# lets do the predication\n",
    "# using the X_test , lets do the predication\n",
    "regressor.fit(X_train,y_train)\n",
    "predication_linear=regressor.predict(X_test)\n",
    "predication_linear\n"
   ]
  },
  {
   "cell_type": "code",
   "execution_count": 558,
   "metadata": {},
   "outputs": [
    {
     "data": {
      "text/plain": [
       "-0.006391304173561263"
      ]
     },
     "execution_count": 558,
     "metadata": {},
     "output_type": "execute_result"
    }
   ],
   "source": [
    "### Lets check teh performance metric\n",
    "from sklearn.metrics import r2_score\n",
    "r2_score(y_test,predication_linear)  ## value close to 1 is good predication\n"
   ]
  },
  {
   "cell_type": "code",
   "execution_count": 559,
   "metadata": {},
   "outputs": [
    {
     "name": "stderr",
     "output_type": "stream",
     "text": [
      "C:\\Users\\KHURAMKHAN\\anaconda3\\lib\\site-packages\\seaborn\\distributions.py:2551: FutureWarning: `distplot` is a deprecated function and will be removed in a future version. Please adapt your code to use either `displot` (a figure-level function with similar flexibility) or `histplot` (an axes-level function for histograms).\n",
      "  warnings.warn(msg, FutureWarning)\n"
     ]
    },
    {
     "data": {
      "text/plain": [
       "<AxesSubplot:xlabel='Temperature', ylabel='Density'>"
      ]
     },
     "execution_count": 559,
     "metadata": {},
     "output_type": "execute_result"
    },
    {
     "data": {
      "image/png": "[encoded data removed]",
      "text/plain": [
       "<Figure size 432x288 with 1 Axes>"
      ]
     },
     "metadata": {
      "needs_background": "light"
     },
     "output_type": "display_data"
    }
   ],
   "source": [
    "### Comparing predicated with actual values\n",
    "import seaborn as sns\n",
    "sns.distplot(y_test-predication_linear)  # distance plot\n",
    "# y test will have actual truth value that we minus with preciation value"
   ]
  },
  {
   "cell_type": "code",
   "execution_count": 570,
   "metadata": {},
   "outputs": [
    {
     "data": {
      "text/plain": [
       "array([32.21842569])"
      ]
     },
     "execution_count": 570,
     "metadata": {},
     "output_type": "execute_result"
    }
   ],
   "source": [
    "# lets do one predication\n",
    "mytest = {'day':26 ,'month':9}\n",
    "\n",
    "mydict = pd.DataFrame([mytest])\n",
    "type(mydict)\n",
    "predication_linear=regressor.predict(mydict)\n",
    "predication_linear"
   ]
  },
  {
   "cell_type": "markdown",
   "metadata": {},
   "source": [
    "### Ridge Regerssion"
   ]
  },
  {
   "cell_type": "code",
   "execution_count": 595,
   "metadata": {},
   "outputs": [],
   "source": [
    "# Feature Scaling\n",
    "from sklearn.preprocessing import StandardScaler\n",
    "sc = StandardScaler()\n",
    "X_train = sc.fit_transform(X_train)\n",
    "X_test = sc.transform(X_test)"
   ]
  },
  {
   "cell_type": "code",
   "execution_count": 596,
   "metadata": {},
   "outputs": [
    {
     "data": {
      "text/plain": [
       "Ridge()"
      ]
     },
     "execution_count": 596,
     "metadata": {},
     "output_type": "execute_result"
    }
   ],
   "source": [
    "from sklearn.linear_model import Ridge\n",
    "ridge = Ridge()\n",
    "ridge"
   ]
  },
  {
   "cell_type": "code",
   "execution_count": 597,
   "metadata": {},
   "outputs": [
    {
     "data": {
      "text/plain": [
       "GridSearchCV(cv=5, estimator=Ridge(),\n",
       "             param_grid={'alpha': [1e-15, 1e-10, 1e-08, 0.001, 0.01, 1, 5, 10,\n",
       "                                   20, 30, 35, 40, 45, 50, 55, 100]},\n",
       "             scoring='neg_mean_squared_error')"
      ]
     },
     "execution_count": 597,
     "metadata": {},
     "output_type": "execute_result"
    }
   ],
   "source": [
    "# find the alpha,\n",
    "from sklearn.model_selection import GridSearchCV\n",
    "\n",
    "#find the suitiable value for alpha, by creating dic with low to high value\n",
    "parameters = {'alpha':[1e-15,1e-10,1e-8,1e-3,1e-2,1,5,10,20,30,35,40,45,50,55,100]}\n",
    "\n",
    "# we are trying to select best alpha from the above dic, so that gridsearch will play with this parameters annd get teh best one\n",
    "ridge_regerssor=GridSearchCV(regerssion_ridge,parameters,scoring='neg_mean_squared_error',cv=5)\n",
    "ridge_regerssor.fit(X_train,y_train)\n"
   ]
  },
  {
   "cell_type": "code",
   "execution_count": 598,
   "metadata": {},
   "outputs": [
    {
     "name": "stdout",
     "output_type": "stream",
     "text": [
      "{'alpha': 100}\n",
      "-14.061458515555728\n"
     ]
    }
   ],
   "source": [
    "# after teh fit, we need to know what alpha is best\n",
    "# for that do\n",
    "print(ridge_regerssor.best_params_)\n",
    "print(ridge_regerssor.best_score_)\n"
   ]
  },
  {
   "cell_type": "code",
   "execution_count": 599,
   "metadata": {},
   "outputs": [],
   "source": [
    "# using the X_test , lets do the predication\n",
    "predication_ridge=ridge_regerssor.predict(X_test)\n"
   ]
  },
  {
   "cell_type": "code",
   "execution_count": 600,
   "metadata": {},
   "outputs": [
    {
     "name": "stderr",
     "output_type": "stream",
     "text": [
      "C:\\Users\\KHURAMKHAN\\anaconda3\\lib\\site-packages\\seaborn\\distributions.py:2551: FutureWarning: `distplot` is a deprecated function and will be removed in a future version. Please adapt your code to use either `displot` (a figure-level function with similar flexibility) or `histplot` (an axes-level function for histograms).\n",
      "  warnings.warn(msg, FutureWarning)\n"
     ]
    },
    {
     "data": {
      "text/plain": [
       "<AxesSubplot:xlabel='Temperature', ylabel='Density'>"
      ]
     },
     "execution_count": 600,
     "metadata": {},
     "output_type": "execute_result"
    },
    {
     "data": {
      "image/png": "[encoded data removed]",
      "text/plain": [
       "<Figure size 432x288 with 1 Axes>"
      ]
     },
     "metadata": {
      "needs_background": "light"
     },
     "output_type": "display_data"
    }
   ],
   "source": [
    "#### Comparing predicated with actual values\n",
    "import seaborn as sns\n",
    "sns.distplot(y_test-predication_ridge)  # distance plot\n",
    "# y test will have actual truth value that we minus with preciation value"
   ]
  },
  {
   "cell_type": "code",
   "execution_count": 601,
   "metadata": {},
   "outputs": [
    {
     "data": {
      "text/plain": [
       "-0.007560069135689185"
      ]
     },
     "execution_count": 601,
     "metadata": {},
     "output_type": "execute_result"
    }
   ],
   "source": [
    "### Lets check teh performance metric\n",
    "from sklearn.metrics import r2_score\n",
    "r2_score(y_test,predication_ridge)  ## value close to 1 is good predication"
   ]
  },
  {
   "cell_type": "code",
   "execution_count": 602,
   "metadata": {},
   "outputs": [
    {
     "data": {
      "text/plain": [
       "array([32.21842569])"
      ]
     },
     "execution_count": 602,
     "metadata": {},
     "output_type": "execute_result"
    }
   ],
   "source": [
    "# lets do one predication\n",
    "mytest = {'day':26 ,'month':9}\n",
    "\n",
    "mydict = pd.DataFrame([mytest])\n",
    "type(mydict)\n",
    "predication_linear=regressor.predict(mydict)\n",
    "predication_linear"
   ]
  },
  {
   "cell_type": "code",
   "execution_count": 584,
   "metadata": {},
   "outputs": [],
   "source": [
    "### Lasso Regression\n",
    "# Lasso Regression\n",
    "from sklearn.linear_model import Lasso\n",
    "lasso=Lasso()"
   ]
  },
  {
   "cell_type": "code",
   "execution_count": 603,
   "metadata": {},
   "outputs": [],
   "source": [
    "from sklearn.model_selection import GridSearchCV\n",
    "parameters={'alpha':[1e-15,1e-10,1e-8,1e-3,1e-2,1,5,10,20,30,35,40,45,50,55,100]}\n",
    "lasso_regressor=GridSearchCV(lasso,parameters,scoring='neg_mean_squared_error',cv=5)"
   ]
  },
  {
   "cell_type": "code",
   "execution_count": 604,
   "metadata": {},
   "outputs": [
    {
     "name": "stderr",
     "output_type": "stream",
     "text": [
      "C:\\Users\\KHURAMKHAN\\anaconda3\\lib\\site-packages\\sklearn\\linear_model\\_coordinate_descent.py:529: ConvergenceWarning: Objective did not converge. You might want to increase the number of iterations. Duality gap: 10.155022034585272, tolerance: 0.1801212598425197\n",
      "  model = cd_fast.enet_coordinate_descent(\n",
      "C:\\Users\\KHURAMKHAN\\anaconda3\\lib\\site-packages\\sklearn\\linear_model\\_coordinate_descent.py:529: ConvergenceWarning: Objective did not converge. You might want to increase the number of iterations. Duality gap: 1.832054409903094, tolerance: 0.17043622047244095\n",
      "  model = cd_fast.enet_coordinate_descent(\n",
      "C:\\Users\\KHURAMKHAN\\anaconda3\\lib\\site-packages\\sklearn\\linear_model\\_coordinate_descent.py:529: ConvergenceWarning: Objective did not converge. You might want to increase the number of iterations. Duality gap: 5.844151248117214, tolerance: 0.1703937007874016\n",
      "  model = cd_fast.enet_coordinate_descent(\n",
      "C:\\Users\\KHURAMKHAN\\anaconda3\\lib\\site-packages\\sklearn\\linear_model\\_coordinate_descent.py:529: ConvergenceWarning: Objective did not converge. You might want to increase the number of iterations. Duality gap: 0.6603940050495112, tolerance: 0.19452421875\n",
      "  model = cd_fast.enet_coordinate_descent(\n"
     ]
    },
    {
     "name": "stdout",
     "output_type": "stream",
     "text": [
      "{'alpha': 1}\n",
      "-14.091347409232904\n"
     ]
    }
   ],
   "source": [
    "lasso_regressor.fit(X_train,y_train)\n",
    "print(lasso_regressor.best_params_)\n",
    "print(lasso_regressor.best_score_)"
   ]
  },
  {
   "cell_type": "code",
   "execution_count": 629,
   "metadata": {},
   "outputs": [],
   "source": [
    "# using the X_test , lets do the predication\n",
    "yhat_train = lasso_regressor.predict(X_train)  # thsi for grpah below\n",
    "predication_lasso=lasso_regressor.predict(X_test)"
   ]
  },
  {
   "cell_type": "code",
   "execution_count": 631,
   "metadata": {},
   "outputs": [
    {
     "name": "stderr",
     "output_type": "stream",
     "text": [
      "C:\\Users\\KHURAMKHAN\\anaconda3\\lib\\site-packages\\seaborn\\distributions.py:2551: FutureWarning: `distplot` is a deprecated function and will be removed in a future version. Please adapt your code to use either `displot` (a figure-level function with similar flexibility) or `histplot` (an axes-level function for histograms).\n",
      "  warnings.warn(msg, FutureWarning)\n"
     ]
    },
    {
     "data": {
      "text/plain": [
       "<AxesSubplot:xlabel='Temperature', ylabel='Density'>"
      ]
     },
     "execution_count": 631,
     "metadata": {},
     "output_type": "execute_result"
    },
    {
     "data": {
      "image/png": "[encoded data removed]",
      "text/plain": [
       "<Figure size 432x288 with 1 Axes>"
      ]
     },
     "metadata": {
      "needs_background": "light"
     },
     "output_type": "display_data"
    }
   ],
   "source": [
    "## lets compare predicated with actual values\n",
    "import seaborn as sns\n",
    "sns.distplot(y_test-predication_lasso)  # distance plot"
   ]
  },
  {
   "cell_type": "code",
   "execution_count": 632,
   "metadata": {},
   "outputs": [
    {
     "data": {
      "text/plain": [
       "-0.01600825838321973"
      ]
     },
     "execution_count": 632,
     "metadata": {},
     "output_type": "execute_result"
    }
   ],
   "source": [
    "### Lets check teh performance metric\n",
    "from sklearn.metrics import r2_score\n",
    "r2_score(y_test,predication_lasso)   ## Value close to 1 indicate good predication"
   ]
  },
  {
   "cell_type": "code",
   "execution_count": 633,
   "metadata": {},
   "outputs": [
    {
     "data": {
      "text/plain": [
       "array([32.21842569])"
      ]
     },
     "execution_count": 633,
     "metadata": {},
     "output_type": "execute_result"
    }
   ],
   "source": [
    "# lets do one predication\n",
    "mytest = {'day':26 ,'month':9}\n",
    "\n",
    "mydict = pd.DataFrame([mytest])\n",
    "type(mydict)\n",
    "predication_linear=regressor.predict(mydict)\n",
    "predication_linear"
   ]
  },
  {
   "cell_type": "markdown",
   "metadata": {},
   "source": [
    "## lets do teh classification on secodn dataframe"
   ]
  },
  {
   "cell_type": "code",
   "execution_count": 638,
   "metadata": {},
   "outputs": [
    {
     "data": {
      "text/html": [
       "<div>\n",
       "<style scoped>\n",
       "    .dataframe tbody tr th:only-of-type {\n",
       "        vertical-align: middle;\n",
       "    }\n",
       "\n",
       "    .dataframe tbody tr th {\n",
       "        vertical-align: top;\n",
       "    }\n",
       "\n",
       "    .dataframe thead th {\n",
       "        text-align: right;\n",
       "    }\n",
       "</style>\n",
       "<table border=\"1\" class=\"dataframe\">\n",
       "  <thead>\n",
       "    <tr style=\"text-align: right;\">\n",
       "      <th></th>\n",
       "      <th>day</th>\n",
       "      <th>month</th>\n",
       "      <th>year</th>\n",
       "      <th>Temperature</th>\n",
       "      <th>RH</th>\n",
       "      <th>Ws</th>\n",
       "      <th>Rain</th>\n",
       "      <th>FFMC</th>\n",
       "      <th>DMC</th>\n",
       "      <th>DC</th>\n",
       "      <th>ISI</th>\n",
       "      <th>BUI</th>\n",
       "      <th>FWI</th>\n",
       "      <th>Classes</th>\n",
       "    </tr>\n",
       "  </thead>\n",
       "  <tbody>\n",
       "    <tr>\n",
       "      <th>0</th>\n",
       "      <td>1</td>\n",
       "      <td>6</td>\n",
       "      <td>2012</td>\n",
       "      <td>29</td>\n",
       "      <td>57</td>\n",
       "      <td>18</td>\n",
       "      <td>0.0</td>\n",
       "      <td>65.7</td>\n",
       "      <td>3.4</td>\n",
       "      <td>7.6</td>\n",
       "      <td>1.3</td>\n",
       "      <td>3.4</td>\n",
       "      <td>0.5</td>\n",
       "      <td>0</td>\n",
       "    </tr>\n",
       "    <tr>\n",
       "      <th>1</th>\n",
       "      <td>2</td>\n",
       "      <td>6</td>\n",
       "      <td>2012</td>\n",
       "      <td>29</td>\n",
       "      <td>61</td>\n",
       "      <td>13</td>\n",
       "      <td>1.3</td>\n",
       "      <td>64.4</td>\n",
       "      <td>4.1</td>\n",
       "      <td>7.6</td>\n",
       "      <td>1.0</td>\n",
       "      <td>3.9</td>\n",
       "      <td>0.4</td>\n",
       "      <td>0</td>\n",
       "    </tr>\n",
       "    <tr>\n",
       "      <th>2</th>\n",
       "      <td>3</td>\n",
       "      <td>6</td>\n",
       "      <td>2012</td>\n",
       "      <td>26</td>\n",
       "      <td>82</td>\n",
       "      <td>22</td>\n",
       "      <td>13.1</td>\n",
       "      <td>47.1</td>\n",
       "      <td>2.5</td>\n",
       "      <td>7.1</td>\n",
       "      <td>0.3</td>\n",
       "      <td>2.7</td>\n",
       "      <td>0.1</td>\n",
       "      <td>0</td>\n",
       "    </tr>\n",
       "    <tr>\n",
       "      <th>3</th>\n",
       "      <td>4</td>\n",
       "      <td>6</td>\n",
       "      <td>2012</td>\n",
       "      <td>25</td>\n",
       "      <td>89</td>\n",
       "      <td>13</td>\n",
       "      <td>2.5</td>\n",
       "      <td>28.6</td>\n",
       "      <td>1.3</td>\n",
       "      <td>6.9</td>\n",
       "      <td>0.0</td>\n",
       "      <td>1.7</td>\n",
       "      <td>0.0</td>\n",
       "      <td>0</td>\n",
       "    </tr>\n",
       "    <tr>\n",
       "      <th>4</th>\n",
       "      <td>5</td>\n",
       "      <td>6</td>\n",
       "      <td>2012</td>\n",
       "      <td>27</td>\n",
       "      <td>77</td>\n",
       "      <td>16</td>\n",
       "      <td>0.0</td>\n",
       "      <td>64.8</td>\n",
       "      <td>3.0</td>\n",
       "      <td>14.2</td>\n",
       "      <td>1.2</td>\n",
       "      <td>3.9</td>\n",
       "      <td>0.5</td>\n",
       "      <td>0</td>\n",
       "    </tr>\n",
       "  </tbody>\n",
       "</table>\n",
       "</div>"
      ],
      "text/plain": [
       "   day  month  year  Temperature  RH  Ws  Rain  FFMC  DMC    DC  ISI  BUI  \\\n",
       "0    1      6  2012           29  57  18   0.0  65.7  3.4   7.6  1.3  3.4   \n",
       "1    2      6  2012           29  61  13   1.3  64.4  4.1   7.6  1.0  3.9   \n",
       "2    3      6  2012           26  82  22  13.1  47.1  2.5   7.1  0.3  2.7   \n",
       "3    4      6  2012           25  89  13   2.5  28.6  1.3   6.9  0.0  1.7   \n",
       "4    5      6  2012           27  77  16   0.0  64.8  3.0  14.2  1.2  3.9   \n",
       "\n",
       "   FWI Classes  \n",
       "0  0.5       0  \n",
       "1  0.4       0  \n",
       "2  0.1       0  \n",
       "3  0.0       0  \n",
       "4  0.5       0  "
      ]
     },
     "execution_count": 638,
     "metadata": {},
     "output_type": "execute_result"
    }
   ],
   "source": [
    "full_df.head()"
   ]
  },
  {
   "cell_type": "code",
   "execution_count": 660,
   "metadata": {},
   "outputs": [],
   "source": [
    "#lets us create X and Y dataframe\n",
    "X = full_df.iloc[:,0:-1] \n",
    "X.drop(['year'],inplace=True,axis=1)  # indpendent variabe\n",
    "\n",
    "#y = full_df.iloc[:,-1:-1] # dependent variables\n",
    "y=full_df.iloc[:,-1]  ## should be pandas series\n"
   ]
  },
  {
   "cell_type": "code",
   "execution_count": 661,
   "metadata": {},
   "outputs": [],
   "source": [
    "# letsdo teh scaler function on this\n",
    "# Feature Scaling\n",
    "from sklearn.preprocessing import StandardScaler\n",
    "sc = StandardScaler()\n",
    "X_train = sc.fit_transform(X_train)\n",
    "X_test = sc.transform(X_test)"
   ]
  },
  {
   "cell_type": "code",
   "execution_count": 662,
   "metadata": {},
   "outputs": [
    {
     "data": {
      "text/plain": [
       "(182,)"
      ]
     },
     "execution_count": 662,
     "metadata": {},
     "output_type": "execute_result"
    }
   ],
   "source": [
    "# SVM kernel for classification\n",
    "from sklearn.model_selection import train_test_split\n",
    "X_train,X_test,y_train,y_test=train_test_split(X,y,test_size=0.25,random_state=0)\n",
    "y_train.shape"
   ]
  },
  {
   "cell_type": "code",
   "execution_count": 676,
   "metadata": {},
   "outputs": [
    {
     "data": {
      "text/plain": [
       "SVC(kernel='linear')"
      ]
     },
     "execution_count": 676,
     "metadata": {},
     "output_type": "execute_result"
    }
   ],
   "source": [
    "# Train the model using rbf\n",
    "from sklearn.svm import SVC\n",
    "classifier=SVC(kernel=\"linear\")   ## tried with rbf, poly, linear, but linears tends to give good acuracy\n",
    "classifier.fit(X_train,y_train)"
   ]
  },
  {
   "cell_type": "code",
   "execution_count": 677,
   "metadata": {},
   "outputs": [
    {
     "data": {
      "text/plain": [
       "array(['1', '1', '1', '1', '1', '1', '0', '1', '1', '1', '0', '1', '1',\n",
       "       '1', '0', '0', '0', '0', '1', '0', '0', '1', '0', '0', '1', '1',\n",
       "       '1', '0', '0', '0', '1', '0', '0', '1', '1', '0', '0', '1', '1',\n",
       "       '0', '1', '0', '0', '0', '0', '0', '1', '1', '0', '0', '1', '1',\n",
       "       '0', '0', '1', '0', '1', '0', '0', '1', '1'], dtype=object)"
      ]
     },
     "execution_count": 677,
     "metadata": {},
     "output_type": "execute_result"
    }
   ],
   "source": [
    "y_pred = classifier.predict(X_test)\n",
    "y_pred"
   ]
  },
  {
   "cell_type": "code",
   "execution_count": 678,
   "metadata": {},
   "outputs": [
    {
     "data": {
      "text/plain": [
       "0.9344262295081968"
      ]
     },
     "execution_count": 678,
     "metadata": {},
     "output_type": "execute_result"
    }
   ],
   "source": [
    "# Check ther performance\n",
    "from sklearn.metrics import accuracy_score\n",
    "y_pred = classifier.predict(X_test)\n",
    "accuracy_score(y_test, y_pred)"
   ]
  },
  {
   "cell_type": "markdown",
   "metadata": {},
   "source": [
    "## Decsion tree classification"
   ]
  },
  {
   "cell_type": "code",
   "execution_count": 746,
   "metadata": {},
   "outputs": [],
   "source": [
    "from sklearn.tree import DecisionTreeClassifier\n"
   ]
  },
  {
   "cell_type": "code",
   "execution_count": 747,
   "metadata": {},
   "outputs": [
    {
     "data": {
      "text/plain": [
       "DecisionTreeClassifier(criterion='entropy', max_depth=4)"
      ]
     },
     "execution_count": 747,
     "metadata": {},
     "output_type": "execute_result"
    }
   ],
   "source": [
    "DTclassifier=DecisionTreeClassifier(criterion=\"entropy\", max_depth = 4)\n",
    "DTclassifier.fit(X_train,y_train)"
   ]
  },
  {
   "cell_type": "code",
   "execution_count": 748,
   "metadata": {},
   "outputs": [
    {
     "data": {
      "text/plain": [
       "array(['1', '1', '1', '1', '1', '1', '0', '1', '1', '1', '0', '1', '1',\n",
       "       '1', '0', '0', '0', '0', '1', '0', '1', '1', '0', '0', '1', '1',\n",
       "       '1', '0', '0', '0', '1', '0', '0', '1', '1', '0', '0', '1', '1',\n",
       "       '0', '1', '0', '0', '0', '0', '0', '0', '1', '0', '0', '1', '1',\n",
       "       '0', '0', '1', '0', '1', '1', '0', '1', '1'], dtype=object)"
      ]
     },
     "execution_count": 748,
     "metadata": {},
     "output_type": "execute_result"
    }
   ],
   "source": [
    "y_pred = DTclassifier.predict(X_test)\n",
    "y_pred"
   ]
  },
  {
   "cell_type": "code",
   "execution_count": 749,
   "metadata": {},
   "outputs": [
    {
     "data": {
      "text/plain": [
       "0.9508196721311475"
      ]
     },
     "execution_count": 749,
     "metadata": {},
     "output_type": "execute_result"
    }
   ],
   "source": [
    "# Check ther performance\n",
    "from sklearn.metrics import accuracy_score\n",
    "y_pred = DTclassifier.predict(X_test)\n",
    "accuracy_score(y_test, y_pred)"
   ]
  },
  {
   "cell_type": "code",
   "execution_count": 750,
   "metadata": {},
   "outputs": [],
   "source": [
    "# Check the confusion matrix\n",
    "def perf_measure(y_test_array,y_pred):\n",
    "    TP = 0\n",
    "    FP = 0\n",
    "    TN = 0\n",
    "    FN = 0\n",
    "    print(len(y_pred))\n",
    "    for i in range(len(y_pred)): \n",
    "        #print(type(y_test_array[i]))\n",
    "        if int(y_test_array[i]) == int(y_pred[i]) == 1:\n",
    "            TP += 1\n",
    "        if int(y_pred[i]==1) and int(y_test_array[i]) != int(y_pred[i]):\n",
    "            FP += 1\n",
    "        if int(y_test_array[i]) == int(y_pred[i]) == 0:\n",
    "            TN += 1\n",
    "        if int(y_pred[i]) == 0 and int(y_test_array[i]) != int(y_pred[i]):\n",
    "            FN += 1\n",
    "\n",
    "    print('True Positive ',TP)\n",
    "    print('False Positive ',FP)\n",
    "    print('True Negative ',TN)\n",
    "    print('False Negative ',FN)\n",
    "    #return(TP, FP, TN, FN)"
   ]
  },
  {
   "cell_type": "code",
   "execution_count": 751,
   "metadata": {},
   "outputs": [
    {
     "name": "stdout",
     "output_type": "stream",
     "text": [
      "61\n",
      "True Positive  32\n",
      "False Positive  0\n",
      "True Negative  26\n",
      "False Negative  3\n"
     ]
    },
    {
     "data": {
      "text/plain": [
       "<AxesSubplot:>"
      ]
     },
     "execution_count": 751,
     "metadata": {},
     "output_type": "execute_result"
    },
    {
     "data": {
      "image/png": "[encoded data removed]",
      "text/plain": [
       "<Figure size 432x288 with 2 Axes>"
      ]
     },
     "metadata": {
      "needs_background": "light"
     },
     "output_type": "display_data"
    }
   ],
   "source": [
    "perf_measure(y_test_array,y_pred)\n",
    "\n",
    "from sklearn.metrics import confusion_matrix\n",
    "cm = confusion_matrix(y_test_array, y_pred)\n",
    "\n",
    "import seaborn as sns\n",
    "sns.heatmap(cm, annot=True, cmap='Blues')"
   ]
  },
  {
   "cell_type": "markdown",
   "metadata": {},
   "source": [
    "#### Confusion matrix shows very less number of false negative and zero false positive.. which means we try to minimize False negative as false neagtive means there is a frire, but we are saying no fire thats lil bad"
   ]
  },
  {
   "cell_type": "markdown",
   "metadata": {},
   "source": [
    "## KNN Classification"
   ]
  },
  {
   "cell_type": "code",
   "execution_count": 738,
   "metadata": {},
   "outputs": [
    {
     "data": {
      "text/plain": [
       "KNeighborsClassifier(n_neighbors=4)"
      ]
     },
     "execution_count": 738,
     "metadata": {},
     "output_type": "execute_result"
    }
   ],
   "source": [
    "from sklearn.neighbors import KNeighborsClassifier\n",
    "k = 4\n",
    "#Train Model and Predict\n",
    "neigh = KNeighborsClassifier(n_neighbors = k).fit(X_train,y_train)\n",
    "neigh"
   ]
  },
  {
   "cell_type": "code",
   "execution_count": 739,
   "metadata": {},
   "outputs": [],
   "source": [
    "y_pred = neigh.predict(X_test)"
   ]
  },
  {
   "cell_type": "code",
   "execution_count": 741,
   "metadata": {},
   "outputs": [
    {
     "name": "stdout",
     "output_type": "stream",
     "text": [
      "Train set Accuracy:  0.9505494505494505\n",
      "Test set Accuracy:  0.8360655737704918\n"
     ]
    }
   ],
   "source": [
    "# lets us check the acuracy\n",
    "from sklearn import metrics\n",
    "print(\"Train set Accuracy: \", metrics.accuracy_score(y_train, neigh.predict(X_train)))\n",
    "print(\"Test set Accuracy: \", metrics.accuracy_score(y_test, y_pred))\n"
   ]
  },
  {
   "cell_type": "code",
   "execution_count": 744,
   "metadata": {},
   "outputs": [
    {
     "name": "stdout",
     "output_type": "stream",
     "text": [
      " \n",
      "for K value  1\n",
      "Train set Accuracy:  1.0\n",
      "Test set Accuracy:  0.819672131147541\n",
      " \n",
      "for K value  2\n",
      "Train set Accuracy:  0.9615384615384616\n",
      "Test set Accuracy:  0.7868852459016393\n",
      " \n",
      "for K value  3\n",
      "Train set Accuracy:  0.9725274725274725\n",
      "Test set Accuracy:  0.8852459016393442\n",
      " \n",
      "for K value  4\n",
      "Train set Accuracy:  0.9505494505494505\n",
      "Test set Accuracy:  0.8360655737704918\n",
      " \n",
      "for K value  5\n",
      "Train set Accuracy:  0.9395604395604396\n",
      "Test set Accuracy:  0.8852459016393442\n",
      " \n",
      "for K value  6\n",
      "Train set Accuracy:  0.9285714285714286\n",
      "Test set Accuracy:  0.8032786885245902\n",
      " \n",
      "for K value  7\n",
      "Train set Accuracy:  0.9010989010989011\n",
      "Test set Accuracy:  0.8852459016393442\n",
      " \n",
      "for K value  8\n",
      "Train set Accuracy:  0.9120879120879121\n",
      "Test set Accuracy:  0.8688524590163934\n",
      " \n",
      "for K value  9\n",
      "Train set Accuracy:  0.8956043956043956\n",
      "Test set Accuracy:  0.8852459016393442\n"
     ]
    },
    {
     "data": {
      "text/plain": [
       "array([0.81967213, 0.78688525, 0.8852459 , 0.83606557, 0.8852459 ,\n",
       "       0.80327869, 0.8852459 , 0.86885246, 0.8852459 ])"
      ]
     },
     "execution_count": 744,
     "metadata": {},
     "output_type": "execute_result"
    }
   ],
   "source": [
    "# lets find out the best K value\n",
    "Ks = 10\n",
    "mean_acc = np.zeros((Ks-1))\n",
    "std_acc = np.zeros((Ks-1))\n",
    "#ConfustionMx = [];\n",
    "\n",
    "for n in range(1,Ks):\n",
    "    #Train Model and Predict\n",
    "    neigh = KNeighborsClassifier(n_neighbors = n).fit(X_train,y_train)\n",
    "    y_pred=neigh.predict(X_test)\n",
    "    print(\" \")\n",
    "    print('for K value ', n)\n",
    "    print(\"Train set Accuracy: \", metrics.accuracy_score(y_train, neigh.predict(X_train)))\n",
    "    print(\"Test set Accuracy: \", metrics.accuracy_score(y_test, y_pred))\n",
    "    mean_acc[n-1] = metrics.accuracy_score(y_test, y_pred)\n",
    "    std_acc[n-1]=np.std(y_pred==y_test)/np.sqrt(y_pred.shape[0])\n",
    "mean_acc\n",
    "\n"
   ]
  },
  {
   "cell_type": "markdown",
   "metadata": {},
   "source": [
    "#### Looking at above acuracy, the model is performing well with K = 3, however decsion tree model has best acurac out of all so lets build the pickle file with decsion tree model"
   ]
  },
  {
   "cell_type": "markdown",
   "metadata": {},
   "source": [
    "## Pickle file creation"
   ]
  },
  {
   "cell_type": "code",
   "execution_count": 745,
   "metadata": {},
   "outputs": [],
   "source": [
    "import pickle\n",
    "pickle.dump(DTclassifier,open('DTmodel.pkl','wb'))  # wb: write byte mode\n"
   ]
  },
  {
   "cell_type": "code",
   "execution_count": 752,
   "metadata": {},
   "outputs": [
    {
     "data": {
      "text/plain": [
       "array(['1', '1', '1', '1', '1', '1', '0', '1', '1', '1', '0', '1', '1',\n",
       "       '1', '0', '0', '0', '0', '1', '0', '1', '1', '0', '0', '1', '1',\n",
       "       '1', '0', '0', '0', '1', '0', '0', '1', '1', '0', '0', '1', '1',\n",
       "       '0', '1', '0', '0', '0', '0', '0', '0', '1', '0', '0', '1', '1',\n",
       "       '0', '0', '1', '0', '1', '1', '0', '1', '1'], dtype=object)"
      ]
     },
     "execution_count": 752,
     "metadata": {},
     "output_type": "execute_result"
    }
   ],
   "source": [
    "# if we want to load the pickle file , and read\n",
    "pickled_model=pickle.load(open('DTmodel.pkl','rb'))\n",
    "pickled_model.predict(X_test)  ## this is batch i/p and getting batch o/p "
   ]
  },
  {
   "cell_type": "code",
   "execution_count": null,
   "metadata": {},
   "outputs": [],
   "source": [
    "## now lets go to the pycharm to build the FLASK API for deployment of this model"
   ]
  },
  {
   "cell_type": "code",
   "execution_count": null,
   "metadata": {},
   "outputs": [],
   "source": []
  },
  {
   "cell_type": "code",
   "execution_count": null,
   "metadata": {},
   "outputs": [],
   "source": []
  },
  {
   "cell_type": "code",
   "execution_count": 608,
   "metadata": {},
   "outputs": [
    {
     "data": {
      "text/plain": [
       "array([32.21842569])"
      ]
     },
     "execution_count": 608,
     "metadata": {},
     "output_type": "execute_result"
    }
   ],
   "source": []
  },
  {
   "cell_type": "markdown",
   "metadata": {},
   "source": [
    "### The below work is just additioal work on data visualization "
   ]
  },
  {
   "cell_type": "markdown",
   "metadata": {},
   "source": [
    "### Data visualization"
   ]
  },
  {
   "cell_type": "code",
   "execution_count": 429,
   "metadata": {},
   "outputs": [],
   "source": [
    "# lets do the box plot to check any outliers\n",
    "import matplotlib as plt"
   ]
  },
  {
   "cell_type": "code",
   "execution_count": 449,
   "metadata": {},
   "outputs": [
    {
     "data": {
      "text/plain": [
       "<AxesSubplot:>"
      ]
     },
     "execution_count": 449,
     "metadata": {},
     "output_type": "execute_result"
    },
    {
     "data": {
      "image/png": "[encoded data removed]",
      "text/plain": [
       "<Figure size 1440x720 with 1 Axes>"
      ]
     },
     "metadata": {
      "needs_background": "light"
     },
     "output_type": "display_data"
    }
   ],
   "source": [
    "full_df['FFMC'].plot(kind='box',figsize=(20,10))"
   ]
  },
  {
   "cell_type": "code",
   "execution_count": 448,
   "metadata": {},
   "outputs": [
    {
     "data": {
      "text/html": [
       "<div>\n",
       "<style scoped>\n",
       "    .dataframe tbody tr th:only-of-type {\n",
       "        vertical-align: middle;\n",
       "    }\n",
       "\n",
       "    .dataframe tbody tr th {\n",
       "        vertical-align: top;\n",
       "    }\n",
       "\n",
       "    .dataframe thead th {\n",
       "        text-align: right;\n",
       "    }\n",
       "</style>\n",
       "<table border=\"1\" class=\"dataframe\">\n",
       "  <thead>\n",
       "    <tr style=\"text-align: right;\">\n",
       "      <th></th>\n",
       "      <th>day</th>\n",
       "      <th>month</th>\n",
       "      <th>year</th>\n",
       "      <th>Temperature</th>\n",
       "      <th>RH</th>\n",
       "      <th>Ws</th>\n",
       "      <th>FFMC</th>\n",
       "      <th>DMC</th>\n",
       "      <th>DC</th>\n",
       "      <th>ISI</th>\n",
       "      <th>BUI</th>\n",
       "      <th>FWI</th>\n",
       "      <th>Classes</th>\n",
       "    </tr>\n",
       "    <tr>\n",
       "      <th>Rain</th>\n",
       "      <th></th>\n",
       "      <th></th>\n",
       "      <th></th>\n",
       "      <th></th>\n",
       "      <th></th>\n",
       "      <th></th>\n",
       "      <th></th>\n",
       "      <th></th>\n",
       "      <th></th>\n",
       "      <th></th>\n",
       "      <th></th>\n",
       "      <th></th>\n",
       "      <th></th>\n",
       "    </tr>\n",
       "  </thead>\n",
       "  <tbody>\n",
       "    <tr>\n",
       "      <th>0.0</th>\n",
       "      <td>133</td>\n",
       "      <td>133</td>\n",
       "      <td>133</td>\n",
       "      <td>133</td>\n",
       "      <td>133</td>\n",
       "      <td>133</td>\n",
       "      <td>133</td>\n",
       "      <td>133</td>\n",
       "      <td>133</td>\n",
       "      <td>133</td>\n",
       "      <td>133</td>\n",
       "      <td>133</td>\n",
       "      <td>133</td>\n",
       "    </tr>\n",
       "    <tr>\n",
       "      <th>0.1</th>\n",
       "      <td>18</td>\n",
       "      <td>18</td>\n",
       "      <td>18</td>\n",
       "      <td>18</td>\n",
       "      <td>18</td>\n",
       "      <td>18</td>\n",
       "      <td>18</td>\n",
       "      <td>18</td>\n",
       "      <td>18</td>\n",
       "      <td>18</td>\n",
       "      <td>18</td>\n",
       "      <td>18</td>\n",
       "      <td>18</td>\n",
       "    </tr>\n",
       "    <tr>\n",
       "      <th>0.2</th>\n",
       "      <td>11</td>\n",
       "      <td>11</td>\n",
       "      <td>11</td>\n",
       "      <td>11</td>\n",
       "      <td>11</td>\n",
       "      <td>11</td>\n",
       "      <td>11</td>\n",
       "      <td>11</td>\n",
       "      <td>11</td>\n",
       "      <td>11</td>\n",
       "      <td>11</td>\n",
       "      <td>11</td>\n",
       "      <td>11</td>\n",
       "    </tr>\n",
       "    <tr>\n",
       "      <th>0.3</th>\n",
       "      <td>10</td>\n",
       "      <td>10</td>\n",
       "      <td>10</td>\n",
       "      <td>10</td>\n",
       "      <td>10</td>\n",
       "      <td>10</td>\n",
       "      <td>10</td>\n",
       "      <td>10</td>\n",
       "      <td>10</td>\n",
       "      <td>10</td>\n",
       "      <td>10</td>\n",
       "      <td>10</td>\n",
       "      <td>10</td>\n",
       "    </tr>\n",
       "    <tr>\n",
       "      <th>0.4</th>\n",
       "      <td>8</td>\n",
       "      <td>8</td>\n",
       "      <td>8</td>\n",
       "      <td>8</td>\n",
       "      <td>8</td>\n",
       "      <td>8</td>\n",
       "      <td>8</td>\n",
       "      <td>8</td>\n",
       "      <td>8</td>\n",
       "      <td>8</td>\n",
       "      <td>8</td>\n",
       "      <td>8</td>\n",
       "      <td>8</td>\n",
       "    </tr>\n",
       "    <tr>\n",
       "      <th>0.5</th>\n",
       "      <td>5</td>\n",
       "      <td>5</td>\n",
       "      <td>5</td>\n",
       "      <td>5</td>\n",
       "      <td>5</td>\n",
       "      <td>5</td>\n",
       "      <td>5</td>\n",
       "      <td>5</td>\n",
       "      <td>5</td>\n",
       "      <td>5</td>\n",
       "      <td>5</td>\n",
       "      <td>5</td>\n",
       "      <td>5</td>\n",
       "    </tr>\n",
       "    <tr>\n",
       "      <th>0.6</th>\n",
       "      <td>6</td>\n",
       "      <td>6</td>\n",
       "      <td>6</td>\n",
       "      <td>6</td>\n",
       "      <td>6</td>\n",
       "      <td>6</td>\n",
       "      <td>6</td>\n",
       "      <td>6</td>\n",
       "      <td>6</td>\n",
       "      <td>6</td>\n",
       "      <td>6</td>\n",
       "      <td>6</td>\n",
       "      <td>6</td>\n",
       "    </tr>\n",
       "    <tr>\n",
       "      <th>0.7</th>\n",
       "      <td>6</td>\n",
       "      <td>6</td>\n",
       "      <td>6</td>\n",
       "      <td>6</td>\n",
       "      <td>6</td>\n",
       "      <td>6</td>\n",
       "      <td>6</td>\n",
       "      <td>6</td>\n",
       "      <td>6</td>\n",
       "      <td>6</td>\n",
       "      <td>6</td>\n",
       "      <td>6</td>\n",
       "      <td>6</td>\n",
       "    </tr>\n",
       "    <tr>\n",
       "      <th>0.8</th>\n",
       "      <td>2</td>\n",
       "      <td>2</td>\n",
       "      <td>2</td>\n",
       "      <td>2</td>\n",
       "      <td>2</td>\n",
       "      <td>2</td>\n",
       "      <td>2</td>\n",
       "      <td>2</td>\n",
       "      <td>2</td>\n",
       "      <td>2</td>\n",
       "      <td>2</td>\n",
       "      <td>2</td>\n",
       "      <td>2</td>\n",
       "    </tr>\n",
       "    <tr>\n",
       "      <th>0.9</th>\n",
       "      <td>1</td>\n",
       "      <td>1</td>\n",
       "      <td>1</td>\n",
       "      <td>1</td>\n",
       "      <td>1</td>\n",
       "      <td>1</td>\n",
       "      <td>1</td>\n",
       "      <td>1</td>\n",
       "      <td>1</td>\n",
       "      <td>1</td>\n",
       "      <td>1</td>\n",
       "      <td>1</td>\n",
       "      <td>1</td>\n",
       "    </tr>\n",
       "    <tr>\n",
       "      <th>1.0</th>\n",
       "      <td>2</td>\n",
       "      <td>2</td>\n",
       "      <td>2</td>\n",
       "      <td>2</td>\n",
       "      <td>2</td>\n",
       "      <td>2</td>\n",
       "      <td>2</td>\n",
       "      <td>2</td>\n",
       "      <td>2</td>\n",
       "      <td>2</td>\n",
       "      <td>2</td>\n",
       "      <td>2</td>\n",
       "      <td>2</td>\n",
       "    </tr>\n",
       "    <tr>\n",
       "      <th>1.1</th>\n",
       "      <td>3</td>\n",
       "      <td>3</td>\n",
       "      <td>3</td>\n",
       "      <td>3</td>\n",
       "      <td>3</td>\n",
       "      <td>3</td>\n",
       "      <td>3</td>\n",
       "      <td>3</td>\n",
       "      <td>3</td>\n",
       "      <td>3</td>\n",
       "      <td>3</td>\n",
       "      <td>3</td>\n",
       "      <td>3</td>\n",
       "    </tr>\n",
       "    <tr>\n",
       "      <th>1.2</th>\n",
       "      <td>3</td>\n",
       "      <td>3</td>\n",
       "      <td>3</td>\n",
       "      <td>3</td>\n",
       "      <td>3</td>\n",
       "      <td>3</td>\n",
       "      <td>3</td>\n",
       "      <td>3</td>\n",
       "      <td>3</td>\n",
       "      <td>3</td>\n",
       "      <td>3</td>\n",
       "      <td>3</td>\n",
       "      <td>3</td>\n",
       "    </tr>\n",
       "    <tr>\n",
       "      <th>1.3</th>\n",
       "      <td>2</td>\n",
       "      <td>2</td>\n",
       "      <td>2</td>\n",
       "      <td>2</td>\n",
       "      <td>2</td>\n",
       "      <td>2</td>\n",
       "      <td>2</td>\n",
       "      <td>2</td>\n",
       "      <td>2</td>\n",
       "      <td>2</td>\n",
       "      <td>2</td>\n",
       "      <td>2</td>\n",
       "      <td>2</td>\n",
       "    </tr>\n",
       "    <tr>\n",
       "      <th>1.4</th>\n",
       "      <td>2</td>\n",
       "      <td>2</td>\n",
       "      <td>2</td>\n",
       "      <td>2</td>\n",
       "      <td>2</td>\n",
       "      <td>2</td>\n",
       "      <td>2</td>\n",
       "      <td>2</td>\n",
       "      <td>2</td>\n",
       "      <td>2</td>\n",
       "      <td>2</td>\n",
       "      <td>2</td>\n",
       "      <td>2</td>\n",
       "    </tr>\n",
       "    <tr>\n",
       "      <th>1.7</th>\n",
       "      <td>1</td>\n",
       "      <td>1</td>\n",
       "      <td>1</td>\n",
       "      <td>1</td>\n",
       "      <td>1</td>\n",
       "      <td>1</td>\n",
       "      <td>1</td>\n",
       "      <td>1</td>\n",
       "      <td>1</td>\n",
       "      <td>1</td>\n",
       "      <td>1</td>\n",
       "      <td>1</td>\n",
       "      <td>1</td>\n",
       "    </tr>\n",
       "    <tr>\n",
       "      <th>1.8</th>\n",
       "      <td>3</td>\n",
       "      <td>3</td>\n",
       "      <td>3</td>\n",
       "      <td>3</td>\n",
       "      <td>3</td>\n",
       "      <td>3</td>\n",
       "      <td>3</td>\n",
       "      <td>3</td>\n",
       "      <td>3</td>\n",
       "      <td>3</td>\n",
       "      <td>3</td>\n",
       "      <td>3</td>\n",
       "      <td>3</td>\n",
       "    </tr>\n",
       "    <tr>\n",
       "      <th>1.9</th>\n",
       "      <td>1</td>\n",
       "      <td>1</td>\n",
       "      <td>1</td>\n",
       "      <td>1</td>\n",
       "      <td>1</td>\n",
       "      <td>1</td>\n",
       "      <td>1</td>\n",
       "      <td>1</td>\n",
       "      <td>1</td>\n",
       "      <td>1</td>\n",
       "      <td>1</td>\n",
       "      <td>1</td>\n",
       "      <td>1</td>\n",
       "    </tr>\n",
       "    <tr>\n",
       "      <th>2.0</th>\n",
       "      <td>3</td>\n",
       "      <td>3</td>\n",
       "      <td>3</td>\n",
       "      <td>3</td>\n",
       "      <td>3</td>\n",
       "      <td>3</td>\n",
       "      <td>3</td>\n",
       "      <td>3</td>\n",
       "      <td>3</td>\n",
       "      <td>3</td>\n",
       "      <td>3</td>\n",
       "      <td>3</td>\n",
       "      <td>3</td>\n",
       "    </tr>\n",
       "    <tr>\n",
       "      <th>2.2</th>\n",
       "      <td>1</td>\n",
       "      <td>1</td>\n",
       "      <td>1</td>\n",
       "      <td>1</td>\n",
       "      <td>1</td>\n",
       "      <td>1</td>\n",
       "      <td>1</td>\n",
       "      <td>1</td>\n",
       "      <td>1</td>\n",
       "      <td>1</td>\n",
       "      <td>1</td>\n",
       "      <td>1</td>\n",
       "      <td>1</td>\n",
       "    </tr>\n",
       "    <tr>\n",
       "      <th>2.5</th>\n",
       "      <td>1</td>\n",
       "      <td>1</td>\n",
       "      <td>1</td>\n",
       "      <td>1</td>\n",
       "      <td>1</td>\n",
       "      <td>1</td>\n",
       "      <td>1</td>\n",
       "      <td>1</td>\n",
       "      <td>1</td>\n",
       "      <td>1</td>\n",
       "      <td>1</td>\n",
       "      <td>1</td>\n",
       "      <td>1</td>\n",
       "    </tr>\n",
       "    <tr>\n",
       "      <th>2.9</th>\n",
       "      <td>2</td>\n",
       "      <td>2</td>\n",
       "      <td>2</td>\n",
       "      <td>2</td>\n",
       "      <td>2</td>\n",
       "      <td>2</td>\n",
       "      <td>2</td>\n",
       "      <td>2</td>\n",
       "      <td>2</td>\n",
       "      <td>2</td>\n",
       "      <td>2</td>\n",
       "      <td>2</td>\n",
       "      <td>2</td>\n",
       "    </tr>\n",
       "    <tr>\n",
       "      <th>3.1</th>\n",
       "      <td>2</td>\n",
       "      <td>2</td>\n",
       "      <td>2</td>\n",
       "      <td>2</td>\n",
       "      <td>2</td>\n",
       "      <td>2</td>\n",
       "      <td>2</td>\n",
       "      <td>2</td>\n",
       "      <td>2</td>\n",
       "      <td>2</td>\n",
       "      <td>2</td>\n",
       "      <td>2</td>\n",
       "      <td>2</td>\n",
       "    </tr>\n",
       "    <tr>\n",
       "      <th>3.8</th>\n",
       "      <td>2</td>\n",
       "      <td>2</td>\n",
       "      <td>2</td>\n",
       "      <td>2</td>\n",
       "      <td>2</td>\n",
       "      <td>2</td>\n",
       "      <td>2</td>\n",
       "      <td>2</td>\n",
       "      <td>2</td>\n",
       "      <td>2</td>\n",
       "      <td>2</td>\n",
       "      <td>2</td>\n",
       "      <td>2</td>\n",
       "    </tr>\n",
       "    <tr>\n",
       "      <th>4.0</th>\n",
       "      <td>1</td>\n",
       "      <td>1</td>\n",
       "      <td>1</td>\n",
       "      <td>1</td>\n",
       "      <td>1</td>\n",
       "      <td>1</td>\n",
       "      <td>1</td>\n",
       "      <td>1</td>\n",
       "      <td>1</td>\n",
       "      <td>1</td>\n",
       "      <td>1</td>\n",
       "      <td>1</td>\n",
       "      <td>1</td>\n",
       "    </tr>\n",
       "    <tr>\n",
       "      <th>4.1</th>\n",
       "      <td>1</td>\n",
       "      <td>1</td>\n",
       "      <td>1</td>\n",
       "      <td>1</td>\n",
       "      <td>1</td>\n",
       "      <td>1</td>\n",
       "      <td>1</td>\n",
       "      <td>1</td>\n",
       "      <td>1</td>\n",
       "      <td>1</td>\n",
       "      <td>1</td>\n",
       "      <td>1</td>\n",
       "      <td>1</td>\n",
       "    </tr>\n",
       "    <tr>\n",
       "      <th>4.4</th>\n",
       "      <td>1</td>\n",
       "      <td>1</td>\n",
       "      <td>1</td>\n",
       "      <td>1</td>\n",
       "      <td>1</td>\n",
       "      <td>1</td>\n",
       "      <td>1</td>\n",
       "      <td>1</td>\n",
       "      <td>1</td>\n",
       "      <td>1</td>\n",
       "      <td>1</td>\n",
       "      <td>1</td>\n",
       "      <td>1</td>\n",
       "    </tr>\n",
       "    <tr>\n",
       "      <th>4.5</th>\n",
       "      <td>1</td>\n",
       "      <td>1</td>\n",
       "      <td>1</td>\n",
       "      <td>1</td>\n",
       "      <td>1</td>\n",
       "      <td>1</td>\n",
       "      <td>1</td>\n",
       "      <td>1</td>\n",
       "      <td>1</td>\n",
       "      <td>1</td>\n",
       "      <td>1</td>\n",
       "      <td>1</td>\n",
       "      <td>1</td>\n",
       "    </tr>\n",
       "    <tr>\n",
       "      <th>4.6</th>\n",
       "      <td>1</td>\n",
       "      <td>1</td>\n",
       "      <td>1</td>\n",
       "      <td>1</td>\n",
       "      <td>1</td>\n",
       "      <td>1</td>\n",
       "      <td>1</td>\n",
       "      <td>1</td>\n",
       "      <td>1</td>\n",
       "      <td>1</td>\n",
       "      <td>1</td>\n",
       "      <td>1</td>\n",
       "      <td>1</td>\n",
       "    </tr>\n",
       "    <tr>\n",
       "      <th>4.7</th>\n",
       "      <td>1</td>\n",
       "      <td>1</td>\n",
       "      <td>1</td>\n",
       "      <td>1</td>\n",
       "      <td>1</td>\n",
       "      <td>1</td>\n",
       "      <td>1</td>\n",
       "      <td>1</td>\n",
       "      <td>1</td>\n",
       "      <td>1</td>\n",
       "      <td>1</td>\n",
       "      <td>1</td>\n",
       "      <td>1</td>\n",
       "    </tr>\n",
       "    <tr>\n",
       "      <th>5.8</th>\n",
       "      <td>1</td>\n",
       "      <td>1</td>\n",
       "      <td>1</td>\n",
       "      <td>1</td>\n",
       "      <td>1</td>\n",
       "      <td>1</td>\n",
       "      <td>1</td>\n",
       "      <td>1</td>\n",
       "      <td>1</td>\n",
       "      <td>1</td>\n",
       "      <td>1</td>\n",
       "      <td>1</td>\n",
       "      <td>1</td>\n",
       "    </tr>\n",
       "    <tr>\n",
       "      <th>6.0</th>\n",
       "      <td>1</td>\n",
       "      <td>1</td>\n",
       "      <td>1</td>\n",
       "      <td>1</td>\n",
       "      <td>1</td>\n",
       "      <td>1</td>\n",
       "      <td>1</td>\n",
       "      <td>1</td>\n",
       "      <td>1</td>\n",
       "      <td>1</td>\n",
       "      <td>1</td>\n",
       "      <td>1</td>\n",
       "      <td>1</td>\n",
       "    </tr>\n",
       "    <tr>\n",
       "      <th>6.5</th>\n",
       "      <td>1</td>\n",
       "      <td>1</td>\n",
       "      <td>1</td>\n",
       "      <td>1</td>\n",
       "      <td>1</td>\n",
       "      <td>1</td>\n",
       "      <td>1</td>\n",
       "      <td>1</td>\n",
       "      <td>1</td>\n",
       "      <td>1</td>\n",
       "      <td>1</td>\n",
       "      <td>1</td>\n",
       "      <td>1</td>\n",
       "    </tr>\n",
       "    <tr>\n",
       "      <th>7.2</th>\n",
       "      <td>1</td>\n",
       "      <td>1</td>\n",
       "      <td>1</td>\n",
       "      <td>1</td>\n",
       "      <td>1</td>\n",
       "      <td>1</td>\n",
       "      <td>1</td>\n",
       "      <td>1</td>\n",
       "      <td>1</td>\n",
       "      <td>1</td>\n",
       "      <td>1</td>\n",
       "      <td>1</td>\n",
       "      <td>1</td>\n",
       "    </tr>\n",
       "    <tr>\n",
       "      <th>8.3</th>\n",
       "      <td>1</td>\n",
       "      <td>1</td>\n",
       "      <td>1</td>\n",
       "      <td>1</td>\n",
       "      <td>1</td>\n",
       "      <td>1</td>\n",
       "      <td>1</td>\n",
       "      <td>1</td>\n",
       "      <td>1</td>\n",
       "      <td>1</td>\n",
       "      <td>1</td>\n",
       "      <td>1</td>\n",
       "      <td>1</td>\n",
       "    </tr>\n",
       "    <tr>\n",
       "      <th>8.7</th>\n",
       "      <td>1</td>\n",
       "      <td>1</td>\n",
       "      <td>1</td>\n",
       "      <td>1</td>\n",
       "      <td>1</td>\n",
       "      <td>1</td>\n",
       "      <td>1</td>\n",
       "      <td>1</td>\n",
       "      <td>1</td>\n",
       "      <td>1</td>\n",
       "      <td>1</td>\n",
       "      <td>1</td>\n",
       "      <td>1</td>\n",
       "    </tr>\n",
       "    <tr>\n",
       "      <th>10.1</th>\n",
       "      <td>1</td>\n",
       "      <td>1</td>\n",
       "      <td>1</td>\n",
       "      <td>1</td>\n",
       "      <td>1</td>\n",
       "      <td>1</td>\n",
       "      <td>1</td>\n",
       "      <td>1</td>\n",
       "      <td>1</td>\n",
       "      <td>1</td>\n",
       "      <td>1</td>\n",
       "      <td>1</td>\n",
       "      <td>1</td>\n",
       "    </tr>\n",
       "    <tr>\n",
       "      <th>13.1</th>\n",
       "      <td>1</td>\n",
       "      <td>1</td>\n",
       "      <td>1</td>\n",
       "      <td>1</td>\n",
       "      <td>1</td>\n",
       "      <td>1</td>\n",
       "      <td>1</td>\n",
       "      <td>1</td>\n",
       "      <td>1</td>\n",
       "      <td>1</td>\n",
       "      <td>1</td>\n",
       "      <td>1</td>\n",
       "      <td>1</td>\n",
       "    </tr>\n",
       "    <tr>\n",
       "      <th>16.8</th>\n",
       "      <td>1</td>\n",
       "      <td>1</td>\n",
       "      <td>1</td>\n",
       "      <td>1</td>\n",
       "      <td>1</td>\n",
       "      <td>1</td>\n",
       "      <td>1</td>\n",
       "      <td>1</td>\n",
       "      <td>1</td>\n",
       "      <td>1</td>\n",
       "      <td>1</td>\n",
       "      <td>1</td>\n",
       "      <td>1</td>\n",
       "    </tr>\n",
       "  </tbody>\n",
       "</table>\n",
       "</div>"
      ],
      "text/plain": [
       "      day  month  year  Temperature   RH   Ws  FFMC  DMC   DC  ISI  BUI  FWI  \\\n",
       "Rain                                                                           \n",
       "0.0   133    133   133          133  133  133   133  133  133  133  133  133   \n",
       "0.1    18     18    18           18   18   18    18   18   18   18   18   18   \n",
       "0.2    11     11    11           11   11   11    11   11   11   11   11   11   \n",
       "0.3    10     10    10           10   10   10    10   10   10   10   10   10   \n",
       "0.4     8      8     8            8    8    8     8    8    8    8    8    8   \n",
       "0.5     5      5     5            5    5    5     5    5    5    5    5    5   \n",
       "0.6     6      6     6            6    6    6     6    6    6    6    6    6   \n",
       "0.7     6      6     6            6    6    6     6    6    6    6    6    6   \n",
       "0.8     2      2     2            2    2    2     2    2    2    2    2    2   \n",
       "0.9     1      1     1            1    1    1     1    1    1    1    1    1   \n",
       "1.0     2      2     2            2    2    2     2    2    2    2    2    2   \n",
       "1.1     3      3     3            3    3    3     3    3    3    3    3    3   \n",
       "1.2     3      3     3            3    3    3     3    3    3    3    3    3   \n",
       "1.3     2      2     2            2    2    2     2    2    2    2    2    2   \n",
       "1.4     2      2     2            2    2    2     2    2    2    2    2    2   \n",
       "1.7     1      1     1            1    1    1     1    1    1    1    1    1   \n",
       "1.8     3      3     3            3    3    3     3    3    3    3    3    3   \n",
       "1.9     1      1     1            1    1    1     1    1    1    1    1    1   \n",
       "2.0     3      3     3            3    3    3     3    3    3    3    3    3   \n",
       "2.2     1      1     1            1    1    1     1    1    1    1    1    1   \n",
       "2.5     1      1     1            1    1    1     1    1    1    1    1    1   \n",
       "2.9     2      2     2            2    2    2     2    2    2    2    2    2   \n",
       "3.1     2      2     2            2    2    2     2    2    2    2    2    2   \n",
       "3.8     2      2     2            2    2    2     2    2    2    2    2    2   \n",
       "4.0     1      1     1            1    1    1     1    1    1    1    1    1   \n",
       "4.1     1      1     1            1    1    1     1    1    1    1    1    1   \n",
       "4.4     1      1     1            1    1    1     1    1    1    1    1    1   \n",
       "4.5     1      1     1            1    1    1     1    1    1    1    1    1   \n",
       "4.6     1      1     1            1    1    1     1    1    1    1    1    1   \n",
       "4.7     1      1     1            1    1    1     1    1    1    1    1    1   \n",
       "5.8     1      1     1            1    1    1     1    1    1    1    1    1   \n",
       "6.0     1      1     1            1    1    1     1    1    1    1    1    1   \n",
       "6.5     1      1     1            1    1    1     1    1    1    1    1    1   \n",
       "7.2     1      1     1            1    1    1     1    1    1    1    1    1   \n",
       "8.3     1      1     1            1    1    1     1    1    1    1    1    1   \n",
       "8.7     1      1     1            1    1    1     1    1    1    1    1    1   \n",
       "10.1    1      1     1            1    1    1     1    1    1    1    1    1   \n",
       "13.1    1      1     1            1    1    1     1    1    1    1    1    1   \n",
       "16.8    1      1     1            1    1    1     1    1    1    1    1    1   \n",
       "\n",
       "      Classes  \n",
       "Rain           \n",
       "0.0       133  \n",
       "0.1        18  \n",
       "0.2        11  \n",
       "0.3        10  \n",
       "0.4         8  \n",
       "0.5         5  \n",
       "0.6         6  \n",
       "0.7         6  \n",
       "0.8         2  \n",
       "0.9         1  \n",
       "1.0         2  \n",
       "1.1         3  \n",
       "1.2         3  \n",
       "1.3         2  \n",
       "1.4         2  \n",
       "1.7         1  \n",
       "1.8         3  \n",
       "1.9         1  \n",
       "2.0         3  \n",
       "2.2         1  \n",
       "2.5         1  \n",
       "2.9         2  \n",
       "3.1         2  \n",
       "3.8         2  \n",
       "4.0         1  \n",
       "4.1         1  \n",
       "4.4         1  \n",
       "4.5         1  \n",
       "4.6         1  \n",
       "4.7         1  \n",
       "5.8         1  \n",
       "6.0         1  \n",
       "6.5         1  \n",
       "7.2         1  \n",
       "8.3         1  \n",
       "8.7         1  \n",
       "10.1        1  \n",
       "13.1        1  \n",
       "16.8        1  "
      ]
     },
     "execution_count": 448,
     "metadata": {},
     "output_type": "execute_result"
    }
   ],
   "source": [
    "full_df.groupby('Rain').count()"
   ]
  },
  {
   "cell_type": "code",
   "execution_count": 447,
   "metadata": {},
   "outputs": [
    {
     "data": {
      "text/html": [
       "<div>\n",
       "<style scoped>\n",
       "    .dataframe tbody tr th:only-of-type {\n",
       "        vertical-align: middle;\n",
       "    }\n",
       "\n",
       "    .dataframe tbody tr th {\n",
       "        vertical-align: top;\n",
       "    }\n",
       "\n",
       "    .dataframe thead th {\n",
       "        text-align: right;\n",
       "    }\n",
       "</style>\n",
       "<table border=\"1\" class=\"dataframe\">\n",
       "  <thead>\n",
       "    <tr style=\"text-align: right;\">\n",
       "      <th></th>\n",
       "      <th>day</th>\n",
       "      <th>month</th>\n",
       "      <th>year</th>\n",
       "      <th>Temperature</th>\n",
       "      <th>RH</th>\n",
       "      <th>Ws</th>\n",
       "      <th>Rain</th>\n",
       "      <th>FFMC</th>\n",
       "      <th>DMC</th>\n",
       "      <th>DC</th>\n",
       "      <th>ISI</th>\n",
       "      <th>BUI</th>\n",
       "      <th>FWI</th>\n",
       "    </tr>\n",
       "  </thead>\n",
       "  <tbody>\n",
       "    <tr>\n",
       "      <th>day</th>\n",
       "      <td>1.000000</td>\n",
       "      <td>-0.000369</td>\n",
       "      <td>NaN</td>\n",
       "      <td>0.097227</td>\n",
       "      <td>-0.076034</td>\n",
       "      <td>0.047812</td>\n",
       "      <td>-0.112523</td>\n",
       "      <td>0.224956</td>\n",
       "      <td>0.491514</td>\n",
       "      <td>0.527952</td>\n",
       "      <td>0.180543</td>\n",
       "      <td>0.517117</td>\n",
       "      <td>0.350781</td>\n",
       "    </tr>\n",
       "    <tr>\n",
       "      <th>month</th>\n",
       "      <td>-0.000369</td>\n",
       "      <td>1.000000</td>\n",
       "      <td>NaN</td>\n",
       "      <td>-0.056781</td>\n",
       "      <td>-0.041252</td>\n",
       "      <td>-0.039880</td>\n",
       "      <td>0.034822</td>\n",
       "      <td>0.017030</td>\n",
       "      <td>0.067943</td>\n",
       "      <td>0.126511</td>\n",
       "      <td>0.065608</td>\n",
       "      <td>0.085073</td>\n",
       "      <td>0.082639</td>\n",
       "    </tr>\n",
       "    <tr>\n",
       "      <th>year</th>\n",
       "      <td>NaN</td>\n",
       "      <td>NaN</td>\n",
       "      <td>NaN</td>\n",
       "      <td>NaN</td>\n",
       "      <td>NaN</td>\n",
       "      <td>NaN</td>\n",
       "      <td>NaN</td>\n",
       "      <td>NaN</td>\n",
       "      <td>NaN</td>\n",
       "      <td>NaN</td>\n",
       "      <td>NaN</td>\n",
       "      <td>NaN</td>\n",
       "      <td>NaN</td>\n",
       "    </tr>\n",
       "    <tr>\n",
       "      <th>Temperature</th>\n",
       "      <td>0.097227</td>\n",
       "      <td>-0.056781</td>\n",
       "      <td>NaN</td>\n",
       "      <td>1.000000</td>\n",
       "      <td>-0.651400</td>\n",
       "      <td>-0.284510</td>\n",
       "      <td>-0.326492</td>\n",
       "      <td>0.676568</td>\n",
       "      <td>0.485687</td>\n",
       "      <td>0.376284</td>\n",
       "      <td>0.603871</td>\n",
       "      <td>0.459789</td>\n",
       "      <td>0.566670</td>\n",
       "    </tr>\n",
       "    <tr>\n",
       "      <th>RH</th>\n",
       "      <td>-0.076034</td>\n",
       "      <td>-0.041252</td>\n",
       "      <td>NaN</td>\n",
       "      <td>-0.651400</td>\n",
       "      <td>1.000000</td>\n",
       "      <td>0.244048</td>\n",
       "      <td>0.222356</td>\n",
       "      <td>-0.644873</td>\n",
       "      <td>-0.408519</td>\n",
       "      <td>-0.226941</td>\n",
       "      <td>-0.686667</td>\n",
       "      <td>-0.353841</td>\n",
       "      <td>-0.580957</td>\n",
       "    </tr>\n",
       "    <tr>\n",
       "      <th>Ws</th>\n",
       "      <td>0.047812</td>\n",
       "      <td>-0.039880</td>\n",
       "      <td>NaN</td>\n",
       "      <td>-0.284510</td>\n",
       "      <td>0.244048</td>\n",
       "      <td>1.000000</td>\n",
       "      <td>0.171506</td>\n",
       "      <td>-0.166548</td>\n",
       "      <td>-0.000721</td>\n",
       "      <td>0.079135</td>\n",
       "      <td>0.008532</td>\n",
       "      <td>0.031438</td>\n",
       "      <td>0.032368</td>\n",
       "    </tr>\n",
       "    <tr>\n",
       "      <th>Rain</th>\n",
       "      <td>-0.112523</td>\n",
       "      <td>0.034822</td>\n",
       "      <td>NaN</td>\n",
       "      <td>-0.326492</td>\n",
       "      <td>0.222356</td>\n",
       "      <td>0.171506</td>\n",
       "      <td>1.000000</td>\n",
       "      <td>-0.543906</td>\n",
       "      <td>-0.288773</td>\n",
       "      <td>-0.298023</td>\n",
       "      <td>-0.347484</td>\n",
       "      <td>-0.299852</td>\n",
       "      <td>-0.324422</td>\n",
       "    </tr>\n",
       "    <tr>\n",
       "      <th>FFMC</th>\n",
       "      <td>0.224956</td>\n",
       "      <td>0.017030</td>\n",
       "      <td>NaN</td>\n",
       "      <td>0.676568</td>\n",
       "      <td>-0.644873</td>\n",
       "      <td>-0.166548</td>\n",
       "      <td>-0.543906</td>\n",
       "      <td>1.000000</td>\n",
       "      <td>0.603608</td>\n",
       "      <td>0.507397</td>\n",
       "      <td>0.740007</td>\n",
       "      <td>0.592011</td>\n",
       "      <td>0.691132</td>\n",
       "    </tr>\n",
       "    <tr>\n",
       "      <th>DMC</th>\n",
       "      <td>0.491514</td>\n",
       "      <td>0.067943</td>\n",
       "      <td>NaN</td>\n",
       "      <td>0.485687</td>\n",
       "      <td>-0.408519</td>\n",
       "      <td>-0.000721</td>\n",
       "      <td>-0.288773</td>\n",
       "      <td>0.603608</td>\n",
       "      <td>1.000000</td>\n",
       "      <td>0.875925</td>\n",
       "      <td>0.680454</td>\n",
       "      <td>0.982248</td>\n",
       "      <td>0.875864</td>\n",
       "    </tr>\n",
       "    <tr>\n",
       "      <th>DC</th>\n",
       "      <td>0.527952</td>\n",
       "      <td>0.126511</td>\n",
       "      <td>NaN</td>\n",
       "      <td>0.376284</td>\n",
       "      <td>-0.226941</td>\n",
       "      <td>0.079135</td>\n",
       "      <td>-0.298023</td>\n",
       "      <td>0.507397</td>\n",
       "      <td>0.875925</td>\n",
       "      <td>1.000000</td>\n",
       "      <td>0.508643</td>\n",
       "      <td>0.941988</td>\n",
       "      <td>0.739521</td>\n",
       "    </tr>\n",
       "    <tr>\n",
       "      <th>ISI</th>\n",
       "      <td>0.180543</td>\n",
       "      <td>0.065608</td>\n",
       "      <td>NaN</td>\n",
       "      <td>0.603871</td>\n",
       "      <td>-0.686667</td>\n",
       "      <td>0.008532</td>\n",
       "      <td>-0.347484</td>\n",
       "      <td>0.740007</td>\n",
       "      <td>0.680454</td>\n",
       "      <td>0.508643</td>\n",
       "      <td>1.000000</td>\n",
       "      <td>0.644093</td>\n",
       "      <td>0.922895</td>\n",
       "    </tr>\n",
       "    <tr>\n",
       "      <th>BUI</th>\n",
       "      <td>0.517117</td>\n",
       "      <td>0.085073</td>\n",
       "      <td>NaN</td>\n",
       "      <td>0.459789</td>\n",
       "      <td>-0.353841</td>\n",
       "      <td>0.031438</td>\n",
       "      <td>-0.299852</td>\n",
       "      <td>0.592011</td>\n",
       "      <td>0.982248</td>\n",
       "      <td>0.941988</td>\n",
       "      <td>0.644093</td>\n",
       "      <td>1.000000</td>\n",
       "      <td>0.857973</td>\n",
       "    </tr>\n",
       "    <tr>\n",
       "      <th>FWI</th>\n",
       "      <td>0.350781</td>\n",
       "      <td>0.082639</td>\n",
       "      <td>NaN</td>\n",
       "      <td>0.566670</td>\n",
       "      <td>-0.580957</td>\n",
       "      <td>0.032368</td>\n",
       "      <td>-0.324422</td>\n",
       "      <td>0.691132</td>\n",
       "      <td>0.875864</td>\n",
       "      <td>0.739521</td>\n",
       "      <td>0.922895</td>\n",
       "      <td>0.857973</td>\n",
       "      <td>1.000000</td>\n",
       "    </tr>\n",
       "  </tbody>\n",
       "</table>\n",
       "</div>"
      ],
      "text/plain": [
       "                  day     month  year  Temperature        RH        Ws  \\\n",
       "day          1.000000 -0.000369   NaN     0.097227 -0.076034  0.047812   \n",
       "month       -0.000369  1.000000   NaN    -0.056781 -0.041252 -0.039880   \n",
       "year              NaN       NaN   NaN          NaN       NaN       NaN   \n",
       "Temperature  0.097227 -0.056781   NaN     1.000000 -0.651400 -0.284510   \n",
       "RH          -0.076034 -0.041252   NaN    -0.651400  1.000000  0.244048   \n",
       "Ws           0.047812 -0.039880   NaN    -0.284510  0.244048  1.000000   \n",
       "Rain        -0.112523  0.034822   NaN    -0.326492  0.222356  0.171506   \n",
       "FFMC         0.224956  0.017030   NaN     0.676568 -0.644873 -0.166548   \n",
       "DMC          0.491514  0.067943   NaN     0.485687 -0.408519 -0.000721   \n",
       "DC           0.527952  0.126511   NaN     0.376284 -0.226941  0.079135   \n",
       "ISI          0.180543  0.065608   NaN     0.603871 -0.686667  0.008532   \n",
       "BUI          0.517117  0.085073   NaN     0.459789 -0.353841  0.031438   \n",
       "FWI          0.350781  0.082639   NaN     0.566670 -0.580957  0.032368   \n",
       "\n",
       "                 Rain      FFMC       DMC        DC       ISI       BUI  \\\n",
       "day         -0.112523  0.224956  0.491514  0.527952  0.180543  0.517117   \n",
       "month        0.034822  0.017030  0.067943  0.126511  0.065608  0.085073   \n",
       "year              NaN       NaN       NaN       NaN       NaN       NaN   \n",
       "Temperature -0.326492  0.676568  0.485687  0.376284  0.603871  0.459789   \n",
       "RH           0.222356 -0.644873 -0.408519 -0.226941 -0.686667 -0.353841   \n",
       "Ws           0.171506 -0.166548 -0.000721  0.079135  0.008532  0.031438   \n",
       "Rain         1.000000 -0.543906 -0.288773 -0.298023 -0.347484 -0.299852   \n",
       "FFMC        -0.543906  1.000000  0.603608  0.507397  0.740007  0.592011   \n",
       "DMC         -0.288773  0.603608  1.000000  0.875925  0.680454  0.982248   \n",
       "DC          -0.298023  0.507397  0.875925  1.000000  0.508643  0.941988   \n",
       "ISI         -0.347484  0.740007  0.680454  0.508643  1.000000  0.644093   \n",
       "BUI         -0.299852  0.592011  0.982248  0.941988  0.644093  1.000000   \n",
       "FWI         -0.324422  0.691132  0.875864  0.739521  0.922895  0.857973   \n",
       "\n",
       "                  FWI  \n",
       "day          0.350781  \n",
       "month        0.082639  \n",
       "year              NaN  \n",
       "Temperature  0.566670  \n",
       "RH          -0.580957  \n",
       "Ws           0.032368  \n",
       "Rain        -0.324422  \n",
       "FFMC         0.691132  \n",
       "DMC          0.875864  \n",
       "DC           0.739521  \n",
       "ISI          0.922895  \n",
       "BUI          0.857973  \n",
       "FWI          1.000000  "
      ]
     },
     "execution_count": 447,
     "metadata": {},
     "output_type": "execute_result"
    }
   ],
   "source": [
    "full_df.corr()"
   ]
  },
  {
   "cell_type": "code",
   "execution_count": 475,
   "metadata": {},
   "outputs": [
    {
     "name": "stderr",
     "output_type": "stream",
     "text": [
      "C:\\Users\\KHURAMKHAN\\anaconda3\\lib\\site-packages\\seaborn\\_decorators.py:36: FutureWarning: Pass the following variables as keyword args: x, y. From version 0.12, the only valid positional argument will be `data`, and passing other arguments without an explicit keyword will result in an error or misinterpretation.\n",
      "  warnings.warn(\n"
     ]
    },
    {
     "data": {
      "text/plain": [
       "<seaborn.axisgrid.FacetGrid at 0x2cd358038e0>"
      ]
     },
     "execution_count": 475,
     "metadata": {},
     "output_type": "execute_result"
    },
    {
     "data": {
      "image/png": "[encoded data removed]",
      "text/plain": [
       "<Figure size 360x360 with 1 Axes>"
      ]
     },
     "metadata": {
      "needs_background": "light"
     },
     "output_type": "display_data"
    }
   ],
   "source": [
    "import seaborn as sns\n",
    "sns.relplot('Ws','Rain',data=full_df)"
   ]
  },
  {
   "cell_type": "markdown",
   "metadata": {},
   "source": [
    "#### Looking at the graph above , if there is a a rain, then no fre, and if there is no rain , then Fire possibility there"
   ]
  },
  {
   "cell_type": "code",
   "execution_count": 455,
   "metadata": {},
   "outputs": [
    {
     "name": "stderr",
     "output_type": "stream",
     "text": [
      "C:\\Users\\KHURAMKHAN\\anaconda3\\lib\\site-packages\\seaborn\\_decorators.py:36: FutureWarning: Pass the following variables as keyword args: x, y. From version 0.12, the only valid positional argument will be `data`, and passing other arguments without an explicit keyword will result in an error or misinterpretation.\n",
      "  warnings.warn(\n"
     ]
    },
    {
     "data": {
      "text/plain": [
       "<AxesSubplot:xlabel='Ws', ylabel='Classes'>"
      ]
     },
     "execution_count": 455,
     "metadata": {},
     "output_type": "execute_result"
    },
    {
     "data": {
      "image/png": "[encoded data removed]",
      "text/plain": [
       "<Figure size 432x288 with 1 Axes>"
      ]
     },
     "metadata": {
      "needs_background": "light"
     },
     "output_type": "display_data"
    }
   ],
   "source": [
    "sns.barplot('Ws','Classes',data=full_df)"
   ]
  },
  {
   "cell_type": "code",
   "execution_count": 469,
   "metadata": {},
   "outputs": [
    {
     "data": {
      "application/vnd.jupyter.widget-view+json": {
       "model_id": "e0b9cf43c9284e539a324d56baaecb8a",
       "version_major": 2,
       "version_minor": 0
      },
      "text/plain": [
       "HBox(children=(HTML(value='Summarize dataset'), FloatProgress(value=0.0, max=5.0), HTML(value='')))"
      ]
     },
     "metadata": {},
     "output_type": "display_data"
    },
    {
     "name": "stdout",
     "output_type": "stream",
     "text": [
      "\n"
     ]
    },
    {
     "data": {
      "application/vnd.jupyter.widget-view+json": {
       "model_id": "c2276c9de01a41a6ab994f86fb8d5b86",
       "version_major": 2,
       "version_minor": 0
      },
      "text/plain": [
       "HBox(children=(HTML(value='Generate report structure'), FloatProgress(value=0.0, max=1.0), HTML(value='')))"
      ]
     },
     "metadata": {},
     "output_type": "display_data"
    },
    {
     "name": "stdout",
     "output_type": "stream",
     "text": [
      "\n"
     ]
    },
    {
     "data": {
      "application/vnd.jupyter.widget-view+json": {
       "model_id": "0ed3dc104ad24bd98d611d6ca3405f7a",
       "version_major": 2,
       "version_minor": 0
      },
      "text/plain": [
       "HBox(children=(HTML(value='Render HTML'), FloatProgress(value=0.0, max=1.0), HTML(value='')))"
      ]
     },
     "metadata": {},
     "output_type": "display_data"
    },
    {
     "name": "stdout",
     "output_type": "stream",
     "text": [
      "\n"
     ]
    },
    {
     "data": {
      "application/vnd.jupyter.widget-view+json": {
       "model_id": "3a3e62481e4e418eab2b50ce150c9bfb",
       "version_major": 2,
       "version_minor": 0
      },
      "text/plain": [
       "HBox(children=(HTML(value='Export report to file'), FloatProgress(value=0.0, max=1.0), HTML(value='')))"
      ]
     },
     "metadata": {},
     "output_type": "display_data"
    },
    {
     "name": "stdout",
     "output_type": "stream",
     "text": [
      "\n"
     ]
    }
   ],
   "source": [
    "from pandas_profiling import ProfileReport\n",
    "profile = ProfileReport(full_df, title=\"Pandas Profiling Report\")\n",
    "profile.to_file(\"Rain_report.html\")"
   ]
  }
 ],
 "metadata": {
  "kernelspec": {
   "display_name": "Python 3",
   "language": "python",
   "name": "python3"
  },
  "language_info": {
   "codemirror_mode": {
    "name": "ipython",
    "version": 3
   },
   "file_extension": ".py",
   "mimetype": "text/x-python",
   "name": "python",
   "nbconvert_exporter": "python",
   "pygments_lexer": "ipython3",
   "version": "3.8.5"
  }
 },
 "nbformat": 4,
 "nbformat_minor": 4
}
